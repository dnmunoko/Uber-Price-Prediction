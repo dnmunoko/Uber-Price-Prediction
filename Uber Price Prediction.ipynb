{
 "cells": [
  {
   "cell_type": "markdown",
   "id": "307695ac-c08b-486a-805c-0fc85bf851e4",
   "metadata": {},
   "source": [
    "# **Uber Price Prediction**"
   ]
  },
  {
   "cell_type": "markdown",
   "id": "4df7e0f1-6cdd-40a0-b2fc-98b820754628",
   "metadata": {},
   "source": [
    "---"
   ]
  },
  {
   "cell_type": "markdown",
   "id": "71c0cc6e-7f01-4c03-9afd-6f81acf8a51f",
   "metadata": {},
   "source": [
    "#### **Introduction**\n",
    "##### The Kaggle dataset offers a rich repository of ride information from Uber services in Boston, MA, spanning a two-month period. It boasts 57 feature columns, encompassing both core ride data (hour, day, month, distance) and detailed weather information (temperature, precipitation, wind, etc.) for each trip. Our target variable is the price of each ride. Our objective is to construct a regression model capable of predicting Uber ride prices using a subset of these features. Our approach involves several steps:\n",
    "-    **Exploratory Data Analysis (EDA):** We'll conduct EDA to gain insights into the data distribution and understand relationships between features. This step is crucial for identifying patterns and selecting relevant features.\n",
    "-    **Feature Selection:** Based on our EDA findings, we'll manually select 25 features that are deemed relevant and potentially interpretable. These features will form the initial set of inputs for our regression model.\n",
    "-    **GridSearchCV Optimization:** We'll employ GridSearchCV, an exhaustive hyperparameter search technique, to fine-tune our regression model's performance. This optimization process involves evaluating the model's performance on unseen data using metrics like Mean Squared Error (MSE).\n",
    "\n",
    "##### The set of features for our model includes: \n",
    "-    Hour: Time of day the ride took place.\n",
    "-    Day: Day of the week (e.g., Monday, Tuesday).\n",
    "-    Month: Month of the year.\n",
    "-    Distance: Distance traveled during the ride.\n",
    "-    Temperature: Air temperature at the ride start time.\n",
    "-    Apparent temperature: \"Feels like\" temperature considering humidity.\n",
    "-    Precipitation intensity: Rainfall intensity at the ride start time.\n",
    "-    Precipitation probability: Likelihood of rain during the ride.\n",
    "-    Humidity: Amount of moisture in the air.\n",
    "-    Wind speed: Speed of wind at the ride start time.\n",
    "-    Wind gust: Strongest wind speed recorded during the ride.\n",
    "-    Wind gust time: Time when the wind gust occurred.\n",
    "-    Visibility: Distance at which objects can be clearly seen.\n",
    "-    Dew point: Temperature at which air condenses into fog or dew.\n",
    "-    Pressure: Atmospheric pressure at the ride start time.\n",
    "-    Wind bearing: Direction from which the wind is blowing.\n",
    "\n",
    "##### These features will serve as input variables for our model, enabling us to accurately predict Uber ride prices. It's worth noting that GridSearchCV may identify an even more optimal subset of features for our final model, providing additional refinement opportunities.\n",
    "\n"
   ]
  },
  {
   "cell_type": "markdown",
   "id": "811146e4-a655-4873-b5e2-fd4fd698d1e8",
   "metadata": {},
   "source": [
    "---"
   ]
  },
  {
   "cell_type": "markdown",
   "id": "5d439880-c9ad-45f5-a59c-25d22b6c2a26",
   "metadata": {},
   "source": [
    "#### **Import Libraries**"
   ]
  },
  {
   "cell_type": "code",
   "execution_count": 1,
   "id": "3fd10af7-5222-4695-828a-08b86bc71929",
   "metadata": {},
   "outputs": [],
   "source": [
    "#Import Libraries\n",
    "import pandas as pd\n",
    "import numpy as np\n",
    "import datetime\n",
    "import matplotlib\n",
    "import matplotlib.pyplot as plt\n",
    "import seaborn as sns\n",
    "import calendar"
   ]
  },
  {
   "cell_type": "code",
   "execution_count": 2,
   "id": "0d8cbd6c-da8d-410f-8e15-5c4977541c25",
   "metadata": {},
   "outputs": [],
   "source": [
    "#Ignore Warnings\n",
    "import warnings\n",
    "warnings.filterwarnings(\"ignore\")\n",
    "#Remove Scientific Notation\n",
    "pd.options.display.float_format = '{:.2f}'.format # Remove scientific notation"
   ]
  },
  {
   "cell_type": "code",
   "execution_count": 3,
   "id": "c8bea55d-04fe-48d3-9250-2639292f8d26",
   "metadata": {},
   "outputs": [],
   "source": [
    "#Import ML Modules\n",
    "from sklearn.feature_selection import RFE\n",
    "from sklearn.linear_model import LinearRegression\n",
    "from sklearn.tree import DecisionTreeRegressor\n",
    "from sklearn.ensemble import RandomForestRegressor\n",
    "from xgboost import XGBRegressor\n",
    "from sklearn import ensemble\n",
    "from sklearn import preprocessing\n",
    "from sklearn.model_selection import train_test_split\n",
    "from sklearn.metrics import mean_squared_error\n",
    "from sklearn.model_selection import GridSearchCV\n",
    "from sklearn.model_selection import KFold\n",
    "from sklearn.model_selection import cross_val_score"
   ]
  },
  {
   "cell_type": "markdown",
   "id": "9bb68655-416f-41d5-ac91-05e5de55dfe1",
   "metadata": {},
   "source": [
    "---"
   ]
  },
  {
   "cell_type": "markdown",
   "id": "eb24a0a2-0296-4f56-a4b8-e036ef4506c8",
   "metadata": {},
   "source": [
    "#### **Load Data**"
   ]
  },
  {
   "cell_type": "code",
   "execution_count": 4,
   "id": "780262cd-1a6c-4d17-8b03-d48b08ce09ad",
   "metadata": {},
   "outputs": [],
   "source": [
    "df = pd.read_csv(\"/kaggle/input/uber-and-lyft-dataset-boston-ma/rideshare_kaggle.csv\")"
   ]
  },
  {
   "cell_type": "markdown",
   "id": "686f6512-2487-45ce-9abf-b5e2bef417bd",
   "metadata": {},
   "source": [
    "---"
   ]
  },
  {
   "cell_type": "markdown",
   "id": "7e179163-7e74-4e11-ab73-38e62c8d21ac",
   "metadata": {},
   "source": [
    "#### **View Data**"
   ]
  },
  {
   "cell_type": "code",
   "execution_count": 5,
   "id": "c21d6946-39c0-4689-b59d-63cb3314b0eb",
   "metadata": {},
   "outputs": [
    {
     "name": "stdout",
     "output_type": "stream",
     "text": [
      "(693071, 57)\n"
     ]
    }
   ],
   "source": [
    "#Dataset Length\n",
    "print(df.shape)"
   ]
  },
  {
   "cell_type": "code",
   "execution_count": 6,
   "id": "bc424aab-1ce5-4be3-98d3-a0a413e5fd1c",
   "metadata": {},
   "outputs": [
    {
     "data": {
      "text/plain": [
       "0"
      ]
     },
     "execution_count": 6,
     "metadata": {},
     "output_type": "execute_result"
    }
   ],
   "source": [
    "# Check Duplicates\n",
    "df.duplicated().sum()"
   ]
  },
  {
   "cell_type": "code",
   "execution_count": 7,
   "id": "92876967-42fb-4203-8a2f-875bfcbb7600",
   "metadata": {},
   "outputs": [
    {
     "name": "stdout",
     "output_type": "stream",
     "text": [
      "<class 'pandas.core.frame.DataFrame'>\n",
      "RangeIndex: 693071 entries, 0 to 693070\n",
      "Data columns (total 57 columns):\n",
      " #   Column                       Non-Null Count   Dtype  \n",
      "---  ------                       --------------   -----  \n",
      " 0   id                           693071 non-null  object \n",
      " 1   timestamp                    693071 non-null  float64\n",
      " 2   hour                         693071 non-null  int64  \n",
      " 3   day                          693071 non-null  int64  \n",
      " 4   month                        693071 non-null  int64  \n",
      " 5   datetime                     693071 non-null  object \n",
      " 6   timezone                     693071 non-null  object \n",
      " 7   source                       693071 non-null  object \n",
      " 8   destination                  693071 non-null  object \n",
      " 9   cab_type                     693071 non-null  object \n",
      " 10  product_id                   693071 non-null  object \n",
      " 11  name                         693071 non-null  object \n",
      " 12  price                        637976 non-null  float64\n",
      " 13  distance                     693071 non-null  float64\n",
      " 14  surge_multiplier             693071 non-null  float64\n",
      " 15  latitude                     693071 non-null  float64\n",
      " 16  longitude                    693071 non-null  float64\n",
      " 17  temperature                  693071 non-null  float64\n",
      " 18  apparentTemperature          693071 non-null  float64\n",
      " 19  short_summary                693071 non-null  object \n",
      " 20  long_summary                 693071 non-null  object \n",
      " 21  precipIntensity              693071 non-null  float64\n",
      " 22  precipProbability            693071 non-null  float64\n",
      " 23  humidity                     693071 non-null  float64\n",
      " 24  windSpeed                    693071 non-null  float64\n",
      " 25  windGust                     693071 non-null  float64\n",
      " 26  windGustTime                 693071 non-null  int64  \n",
      " 27  visibility                   693071 non-null  float64\n",
      " 28  temperatureHigh              693071 non-null  float64\n",
      " 29  temperatureHighTime          693071 non-null  int64  \n",
      " 30  temperatureLow               693071 non-null  float64\n",
      " 31  temperatureLowTime           693071 non-null  int64  \n",
      " 32  apparentTemperatureHigh      693071 non-null  float64\n",
      " 33  apparentTemperatureHighTime  693071 non-null  int64  \n",
      " 34  apparentTemperatureLow       693071 non-null  float64\n",
      " 35  apparentTemperatureLowTime   693071 non-null  int64  \n",
      " 36  icon                         693071 non-null  object \n",
      " 37  dewPoint                     693071 non-null  float64\n",
      " 38  pressure                     693071 non-null  float64\n",
      " 39  windBearing                  693071 non-null  int64  \n",
      " 40  cloudCover                   693071 non-null  float64\n",
      " 41  uvIndex                      693071 non-null  int64  \n",
      " 42  visibility.1                 693071 non-null  float64\n",
      " 43  ozone                        693071 non-null  float64\n",
      " 44  sunriseTime                  693071 non-null  int64  \n",
      " 45  sunsetTime                   693071 non-null  int64  \n",
      " 46  moonPhase                    693071 non-null  float64\n",
      " 47  precipIntensityMax           693071 non-null  float64\n",
      " 48  uvIndexTime                  693071 non-null  int64  \n",
      " 49  temperatureMin               693071 non-null  float64\n",
      " 50  temperatureMinTime           693071 non-null  int64  \n",
      " 51  temperatureMax               693071 non-null  float64\n",
      " 52  temperatureMaxTime           693071 non-null  int64  \n",
      " 53  apparentTemperatureMin       693071 non-null  float64\n",
      " 54  apparentTemperatureMinTime   693071 non-null  int64  \n",
      " 55  apparentTemperatureMax       693071 non-null  float64\n",
      " 56  apparentTemperatureMaxTime   693071 non-null  int64  \n",
      "dtypes: float64(29), int64(17), object(11)\n",
      "memory usage: 301.4+ MB\n"
     ]
    }
   ],
   "source": [
    "# Get Data Types\n",
    "df.info()"
   ]
  },
  {
   "cell_type": "code",
   "execution_count": 8,
   "id": "865d01b9-d2e1-4bb8-8bb2-f8ab530335b2",
   "metadata": {},
   "outputs": [
    {
     "name": "stdout",
     "output_type": "stream",
     "text": [
      "<class 'pandas.core.frame.DataFrame'>\n",
      "RangeIndex: 693071 entries, 0 to 693070\n",
      "Data columns (total 57 columns):\n",
      " #   Column                       Non-Null Count   Dtype  \n",
      "---  ------                       --------------   -----  \n",
      " 0   id                           693071 non-null  object \n",
      " 1   timestamp                    693071 non-null  float64\n",
      " 2   hour                         693071 non-null  int64  \n",
      " 3   day                          693071 non-null  int64  \n",
      " 4   month                        693071 non-null  int64  \n",
      " 5   datetime                     693071 non-null  object \n",
      " 6   timezone                     693071 non-null  object \n",
      " 7   source                       693071 non-null  object \n",
      " 8   destination                  693071 non-null  object \n",
      " 9   cab_type                     693071 non-null  object \n",
      " 10  product_id                   693071 non-null  object \n",
      " 11  name                         693071 non-null  object \n",
      " 12  price                        637976 non-null  float64\n",
      " 13  distance                     693071 non-null  float64\n",
      " 14  surge_multiplier             693071 non-null  float64\n",
      " 15  latitude                     693071 non-null  float64\n",
      " 16  longitude                    693071 non-null  float64\n",
      " 17  temperature                  693071 non-null  float64\n",
      " 18  apparentTemperature          693071 non-null  float64\n",
      " 19  short_summary                693071 non-null  object \n",
      " 20  long_summary                 693071 non-null  object \n",
      " 21  precipIntensity              693071 non-null  float64\n",
      " 22  precipProbability            693071 non-null  float64\n",
      " 23  humidity                     693071 non-null  float64\n",
      " 24  windSpeed                    693071 non-null  float64\n",
      " 25  windGust                     693071 non-null  float64\n",
      " 26  windGustTime                 693071 non-null  int64  \n",
      " 27  visibility                   693071 non-null  float64\n",
      " 28  temperatureHigh              693071 non-null  float64\n",
      " 29  temperatureHighTime          693071 non-null  int64  \n",
      " 30  temperatureLow               693071 non-null  float64\n",
      " 31  temperatureLowTime           693071 non-null  int64  \n",
      " 32  apparentTemperatureHigh      693071 non-null  float64\n",
      " 33  apparentTemperatureHighTime  693071 non-null  int64  \n",
      " 34  apparentTemperatureLow       693071 non-null  float64\n",
      " 35  apparentTemperatureLowTime   693071 non-null  int64  \n",
      " 36  icon                         693071 non-null  object \n",
      " 37  dewPoint                     693071 non-null  float64\n",
      " 38  pressure                     693071 non-null  float64\n",
      " 39  windBearing                  693071 non-null  int64  \n",
      " 40  cloudCover                   693071 non-null  float64\n",
      " 41  uvIndex                      693071 non-null  int64  \n",
      " 42  visibility.1                 693071 non-null  float64\n",
      " 43  ozone                        693071 non-null  float64\n",
      " 44  sunriseTime                  693071 non-null  int64  \n",
      " 45  sunsetTime                   693071 non-null  int64  \n",
      " 46  moonPhase                    693071 non-null  float64\n",
      " 47  precipIntensityMax           693071 non-null  float64\n",
      " 48  uvIndexTime                  693071 non-null  int64  \n",
      " 49  temperatureMin               693071 non-null  float64\n",
      " 50  temperatureMinTime           693071 non-null  int64  \n",
      " 51  temperatureMax               693071 non-null  float64\n",
      " 52  temperatureMaxTime           693071 non-null  int64  \n",
      " 53  apparentTemperatureMin       693071 non-null  float64\n",
      " 54  apparentTemperatureMinTime   693071 non-null  int64  \n",
      " 55  apparentTemperatureMax       693071 non-null  float64\n",
      " 56  apparentTemperatureMaxTime   693071 non-null  int64  \n",
      "dtypes: float64(29), int64(17), object(11)\n",
      "memory usage: 301.4+ MB\n"
     ]
    }
   ],
   "source": [
    "# Get Data Types\n",
    "df.info()"
   ]
  },
  {
   "cell_type": "code",
   "execution_count": 9,
   "id": "5580aae2-9ce1-4dc1-9b04-31625d5b5868",
   "metadata": {},
   "outputs": [
    {
     "data": {
      "text/html": [
       "<div>\n",
       "<style scoped>\n",
       "    .dataframe tbody tr th:only-of-type {\n",
       "        vertical-align: middle;\n",
       "    }\n",
       "\n",
       "    .dataframe tbody tr th {\n",
       "        vertical-align: top;\n",
       "    }\n",
       "\n",
       "    .dataframe thead th {\n",
       "        text-align: right;\n",
       "    }\n",
       "</style>\n",
       "<table border=\"1\" class=\"dataframe\">\n",
       "  <thead>\n",
       "    <tr style=\"text-align: right;\">\n",
       "      <th></th>\n",
       "      <th>count</th>\n",
       "      <th>unique</th>\n",
       "      <th>top</th>\n",
       "      <th>freq</th>\n",
       "    </tr>\n",
       "  </thead>\n",
       "  <tbody>\n",
       "    <tr>\n",
       "      <th>id</th>\n",
       "      <td>693071</td>\n",
       "      <td>693071</td>\n",
       "      <td>424553bb-7174-41ea-aeb4-fe06d4f4b9d7</td>\n",
       "      <td>1</td>\n",
       "    </tr>\n",
       "    <tr>\n",
       "      <th>datetime</th>\n",
       "      <td>693071</td>\n",
       "      <td>31350</td>\n",
       "      <td>2018-11-26 23:21:14</td>\n",
       "      <td>156</td>\n",
       "    </tr>\n",
       "    <tr>\n",
       "      <th>timezone</th>\n",
       "      <td>693071</td>\n",
       "      <td>1</td>\n",
       "      <td>America/New_York</td>\n",
       "      <td>693071</td>\n",
       "    </tr>\n",
       "    <tr>\n",
       "      <th>source</th>\n",
       "      <td>693071</td>\n",
       "      <td>12</td>\n",
       "      <td>Financial District</td>\n",
       "      <td>58857</td>\n",
       "    </tr>\n",
       "    <tr>\n",
       "      <th>destination</th>\n",
       "      <td>693071</td>\n",
       "      <td>12</td>\n",
       "      <td>Financial District</td>\n",
       "      <td>58851</td>\n",
       "    </tr>\n",
       "    <tr>\n",
       "      <th>cab_type</th>\n",
       "      <td>693071</td>\n",
       "      <td>2</td>\n",
       "      <td>Uber</td>\n",
       "      <td>385663</td>\n",
       "    </tr>\n",
       "    <tr>\n",
       "      <th>product_id</th>\n",
       "      <td>693071</td>\n",
       "      <td>13</td>\n",
       "      <td>6f72dfc5-27f1-42e8-84db-ccc7a75f6969</td>\n",
       "      <td>55096</td>\n",
       "    </tr>\n",
       "    <tr>\n",
       "      <th>name</th>\n",
       "      <td>693071</td>\n",
       "      <td>13</td>\n",
       "      <td>UberXL</td>\n",
       "      <td>55096</td>\n",
       "    </tr>\n",
       "    <tr>\n",
       "      <th>short_summary</th>\n",
       "      <td>693071</td>\n",
       "      <td>9</td>\n",
       "      <td>Overcast</td>\n",
       "      <td>218895</td>\n",
       "    </tr>\n",
       "    <tr>\n",
       "      <th>long_summary</th>\n",
       "      <td>693071</td>\n",
       "      <td>11</td>\n",
       "      <td>Mostly cloudy throughout the day.</td>\n",
       "      <td>202340</td>\n",
       "    </tr>\n",
       "    <tr>\n",
       "      <th>icon</th>\n",
       "      <td>693071</td>\n",
       "      <td>7</td>\n",
       "      <td>cloudy</td>\n",
       "      <td>218895</td>\n",
       "    </tr>\n",
       "  </tbody>\n",
       "</table>\n",
       "</div>"
      ],
      "text/plain": [
       "                count  unique                                   top    freq\n",
       "id             693071  693071  424553bb-7174-41ea-aeb4-fe06d4f4b9d7       1\n",
       "datetime       693071   31350                   2018-11-26 23:21:14     156\n",
       "timezone       693071       1                      America/New_York  693071\n",
       "source         693071      12                    Financial District   58857\n",
       "destination    693071      12                    Financial District   58851\n",
       "cab_type       693071       2                                  Uber  385663\n",
       "product_id     693071      13  6f72dfc5-27f1-42e8-84db-ccc7a75f6969   55096\n",
       "name           693071      13                                UberXL   55096\n",
       "short_summary  693071       9                             Overcast   218895\n",
       "long_summary   693071      11    Mostly cloudy throughout the day.   202340\n",
       "icon           693071       7                               cloudy   218895"
      ]
     },
     "execution_count": 9,
     "metadata": {},
     "output_type": "execute_result"
    }
   ],
   "source": [
    "# Descriptive statistics (for object)\n",
    "df.describe(include=['object']).T"
   ]
  },
  {
   "cell_type": "code",
   "execution_count": 10,
   "id": "85044ba8-6bd1-4f7a-b5bd-935625c8f5f8",
   "metadata": {},
   "outputs": [
    {
     "data": {
      "text/html": [
       "<div>\n",
       "<style scoped>\n",
       "    .dataframe tbody tr th:only-of-type {\n",
       "        vertical-align: middle;\n",
       "    }\n",
       "\n",
       "    .dataframe tbody tr th {\n",
       "        vertical-align: top;\n",
       "    }\n",
       "\n",
       "    .dataframe thead th {\n",
       "        text-align: right;\n",
       "    }\n",
       "</style>\n",
       "<table border=\"1\" class=\"dataframe\">\n",
       "  <thead>\n",
       "    <tr style=\"text-align: right;\">\n",
       "      <th></th>\n",
       "      <th>count</th>\n",
       "      <th>mean</th>\n",
       "      <th>std</th>\n",
       "      <th>min</th>\n",
       "      <th>25%</th>\n",
       "      <th>50%</th>\n",
       "      <th>75%</th>\n",
       "      <th>max</th>\n",
       "    </tr>\n",
       "  </thead>\n",
       "  <tbody>\n",
       "    <tr>\n",
       "      <th>timestamp</th>\n",
       "      <td>693071.00</td>\n",
       "      <td>1544045709.76</td>\n",
       "      <td>689192.49</td>\n",
       "      <td>1543203646.00</td>\n",
       "      <td>1543443968.00</td>\n",
       "      <td>1543737478.00</td>\n",
       "      <td>1544827509.00</td>\n",
       "      <td>1545160511.00</td>\n",
       "    </tr>\n",
       "    <tr>\n",
       "      <th>hour</th>\n",
       "      <td>693071.00</td>\n",
       "      <td>11.62</td>\n",
       "      <td>6.95</td>\n",
       "      <td>0.00</td>\n",
       "      <td>6.00</td>\n",
       "      <td>12.00</td>\n",
       "      <td>18.00</td>\n",
       "      <td>23.00</td>\n",
       "    </tr>\n",
       "    <tr>\n",
       "      <th>day</th>\n",
       "      <td>693071.00</td>\n",
       "      <td>17.79</td>\n",
       "      <td>9.98</td>\n",
       "      <td>1.00</td>\n",
       "      <td>13.00</td>\n",
       "      <td>17.00</td>\n",
       "      <td>28.00</td>\n",
       "      <td>30.00</td>\n",
       "    </tr>\n",
       "    <tr>\n",
       "      <th>month</th>\n",
       "      <td>693071.00</td>\n",
       "      <td>11.59</td>\n",
       "      <td>0.49</td>\n",
       "      <td>11.00</td>\n",
       "      <td>11.00</td>\n",
       "      <td>12.00</td>\n",
       "      <td>12.00</td>\n",
       "      <td>12.00</td>\n",
       "    </tr>\n",
       "    <tr>\n",
       "      <th>price</th>\n",
       "      <td>637976.00</td>\n",
       "      <td>16.55</td>\n",
       "      <td>9.32</td>\n",
       "      <td>2.50</td>\n",
       "      <td>9.00</td>\n",
       "      <td>13.50</td>\n",
       "      <td>22.50</td>\n",
       "      <td>97.50</td>\n",
       "    </tr>\n",
       "    <tr>\n",
       "      <th>distance</th>\n",
       "      <td>693071.00</td>\n",
       "      <td>2.19</td>\n",
       "      <td>1.14</td>\n",
       "      <td>0.02</td>\n",
       "      <td>1.28</td>\n",
       "      <td>2.16</td>\n",
       "      <td>2.92</td>\n",
       "      <td>7.86</td>\n",
       "    </tr>\n",
       "    <tr>\n",
       "      <th>surge_multiplier</th>\n",
       "      <td>693071.00</td>\n",
       "      <td>1.01</td>\n",
       "      <td>0.09</td>\n",
       "      <td>1.00</td>\n",
       "      <td>1.00</td>\n",
       "      <td>1.00</td>\n",
       "      <td>1.00</td>\n",
       "      <td>3.00</td>\n",
       "    </tr>\n",
       "    <tr>\n",
       "      <th>latitude</th>\n",
       "      <td>693071.00</td>\n",
       "      <td>42.34</td>\n",
       "      <td>0.05</td>\n",
       "      <td>42.21</td>\n",
       "      <td>42.35</td>\n",
       "      <td>42.35</td>\n",
       "      <td>42.36</td>\n",
       "      <td>42.37</td>\n",
       "    </tr>\n",
       "    <tr>\n",
       "      <th>longitude</th>\n",
       "      <td>693071.00</td>\n",
       "      <td>-71.07</td>\n",
       "      <td>0.02</td>\n",
       "      <td>-71.11</td>\n",
       "      <td>-71.08</td>\n",
       "      <td>-71.06</td>\n",
       "      <td>-71.05</td>\n",
       "      <td>-71.03</td>\n",
       "    </tr>\n",
       "    <tr>\n",
       "      <th>temperature</th>\n",
       "      <td>693071.00</td>\n",
       "      <td>39.58</td>\n",
       "      <td>6.73</td>\n",
       "      <td>18.91</td>\n",
       "      <td>36.45</td>\n",
       "      <td>40.49</td>\n",
       "      <td>43.58</td>\n",
       "      <td>57.22</td>\n",
       "    </tr>\n",
       "    <tr>\n",
       "      <th>apparentTemperature</th>\n",
       "      <td>693071.00</td>\n",
       "      <td>35.88</td>\n",
       "      <td>7.92</td>\n",
       "      <td>12.13</td>\n",
       "      <td>31.91</td>\n",
       "      <td>35.90</td>\n",
       "      <td>40.08</td>\n",
       "      <td>57.22</td>\n",
       "    </tr>\n",
       "    <tr>\n",
       "      <th>precipIntensity</th>\n",
       "      <td>693071.00</td>\n",
       "      <td>0.01</td>\n",
       "      <td>0.03</td>\n",
       "      <td>0.00</td>\n",
       "      <td>0.00</td>\n",
       "      <td>0.00</td>\n",
       "      <td>0.00</td>\n",
       "      <td>0.14</td>\n",
       "    </tr>\n",
       "    <tr>\n",
       "      <th>precipProbability</th>\n",
       "      <td>693071.00</td>\n",
       "      <td>0.15</td>\n",
       "      <td>0.33</td>\n",
       "      <td>0.00</td>\n",
       "      <td>0.00</td>\n",
       "      <td>0.00</td>\n",
       "      <td>0.00</td>\n",
       "      <td>1.00</td>\n",
       "    </tr>\n",
       "    <tr>\n",
       "      <th>humidity</th>\n",
       "      <td>693071.00</td>\n",
       "      <td>0.74</td>\n",
       "      <td>0.14</td>\n",
       "      <td>0.38</td>\n",
       "      <td>0.64</td>\n",
       "      <td>0.71</td>\n",
       "      <td>0.88</td>\n",
       "      <td>0.96</td>\n",
       "    </tr>\n",
       "    <tr>\n",
       "      <th>windSpeed</th>\n",
       "      <td>693071.00</td>\n",
       "      <td>6.19</td>\n",
       "      <td>3.15</td>\n",
       "      <td>0.45</td>\n",
       "      <td>3.41</td>\n",
       "      <td>5.91</td>\n",
       "      <td>8.41</td>\n",
       "      <td>15.00</td>\n",
       "    </tr>\n",
       "    <tr>\n",
       "      <th>windGust</th>\n",
       "      <td>693071.00</td>\n",
       "      <td>8.47</td>\n",
       "      <td>5.29</td>\n",
       "      <td>0.80</td>\n",
       "      <td>4.06</td>\n",
       "      <td>7.55</td>\n",
       "      <td>11.74</td>\n",
       "      <td>27.25</td>\n",
       "    </tr>\n",
       "    <tr>\n",
       "      <th>windGustTime</th>\n",
       "      <td>693071.00</td>\n",
       "      <td>1544048883.54</td>\n",
       "      <td>692824.40</td>\n",
       "      <td>1543150800.00</td>\n",
       "      <td>1543431600.00</td>\n",
       "      <td>1543755600.00</td>\n",
       "      <td>1544846400.00</td>\n",
       "      <td>1545127200.00</td>\n",
       "    </tr>\n",
       "    <tr>\n",
       "      <th>visibility</th>\n",
       "      <td>693071.00</td>\n",
       "      <td>8.47</td>\n",
       "      <td>2.60</td>\n",
       "      <td>0.72</td>\n",
       "      <td>8.43</td>\n",
       "      <td>9.88</td>\n",
       "      <td>10.00</td>\n",
       "      <td>10.00</td>\n",
       "    </tr>\n",
       "    <tr>\n",
       "      <th>temperatureHigh</th>\n",
       "      <td>693071.00</td>\n",
       "      <td>45.04</td>\n",
       "      <td>6.00</td>\n",
       "      <td>32.68</td>\n",
       "      <td>42.57</td>\n",
       "      <td>44.68</td>\n",
       "      <td>46.91</td>\n",
       "      <td>57.87</td>\n",
       "    </tr>\n",
       "    <tr>\n",
       "      <th>temperatureHighTime</th>\n",
       "      <td>693071.00</td>\n",
       "      <td>1544049894.63</td>\n",
       "      <td>693792.11</td>\n",
       "      <td>1543154400.00</td>\n",
       "      <td>1543438800.00</td>\n",
       "      <td>1543788000.00</td>\n",
       "      <td>1544814000.00</td>\n",
       "      <td>1545159600.00</td>\n",
       "    </tr>\n",
       "    <tr>\n",
       "      <th>temperatureLow</th>\n",
       "      <td>693071.00</td>\n",
       "      <td>34.15</td>\n",
       "      <td>6.38</td>\n",
       "      <td>17.85</td>\n",
       "      <td>30.17</td>\n",
       "      <td>34.18</td>\n",
       "      <td>38.73</td>\n",
       "      <td>46.60</td>\n",
       "    </tr>\n",
       "    <tr>\n",
       "      <th>temperatureLowTime</th>\n",
       "      <td>693071.00</td>\n",
       "      <td>1544102170.88</td>\n",
       "      <td>692292.33</td>\n",
       "      <td>1543233600.00</td>\n",
       "      <td>1543489200.00</td>\n",
       "      <td>1543816800.00</td>\n",
       "      <td>1544835600.00</td>\n",
       "      <td>1545220800.00</td>\n",
       "    </tr>\n",
       "    <tr>\n",
       "      <th>apparentTemperatureHigh</th>\n",
       "      <td>693071.00</td>\n",
       "      <td>41.61</td>\n",
       "      <td>7.67</td>\n",
       "      <td>22.62</td>\n",
       "      <td>36.57</td>\n",
       "      <td>40.95</td>\n",
       "      <td>44.12</td>\n",
       "      <td>57.20</td>\n",
       "    </tr>\n",
       "    <tr>\n",
       "      <th>apparentTemperatureHighTime</th>\n",
       "      <td>693071.00</td>\n",
       "      <td>1544050235.26</td>\n",
       "      <td>694169.87</td>\n",
       "      <td>1543186800.00</td>\n",
       "      <td>1543438800.00</td>\n",
       "      <td>1543788000.00</td>\n",
       "      <td>1544817600.00</td>\n",
       "      <td>1545159600.00</td>\n",
       "    </tr>\n",
       "    <tr>\n",
       "      <th>apparentTemperatureLow</th>\n",
       "      <td>693071.00</td>\n",
       "      <td>30.14</td>\n",
       "      <td>8.06</td>\n",
       "      <td>11.81</td>\n",
       "      <td>27.70</td>\n",
       "      <td>30.03</td>\n",
       "      <td>35.32</td>\n",
       "      <td>47.25</td>\n",
       "    </tr>\n",
       "    <tr>\n",
       "      <th>apparentTemperatureLowTime</th>\n",
       "      <td>693071.00</td>\n",
       "      <td>1544098720.41</td>\n",
       "      <td>692737.83</td>\n",
       "      <td>1543233600.00</td>\n",
       "      <td>1543478400.00</td>\n",
       "      <td>1543816800.00</td>\n",
       "      <td>1544835600.00</td>\n",
       "      <td>1545199200.00</td>\n",
       "    </tr>\n",
       "    <tr>\n",
       "      <th>dewPoint</th>\n",
       "      <td>693071.00</td>\n",
       "      <td>31.66</td>\n",
       "      <td>9.14</td>\n",
       "      <td>4.39</td>\n",
       "      <td>27.49</td>\n",
       "      <td>30.69</td>\n",
       "      <td>38.12</td>\n",
       "      <td>50.67</td>\n",
       "    </tr>\n",
       "    <tr>\n",
       "      <th>pressure</th>\n",
       "      <td>693071.00</td>\n",
       "      <td>1010.09</td>\n",
       "      <td>13.47</td>\n",
       "      <td>988.09</td>\n",
       "      <td>999.82</td>\n",
       "      <td>1009.25</td>\n",
       "      <td>1021.86</td>\n",
       "      <td>1035.55</td>\n",
       "    </tr>\n",
       "    <tr>\n",
       "      <th>windBearing</th>\n",
       "      <td>693071.00</td>\n",
       "      <td>220.06</td>\n",
       "      <td>99.10</td>\n",
       "      <td>2.00</td>\n",
       "      <td>124.00</td>\n",
       "      <td>258.00</td>\n",
       "      <td>303.00</td>\n",
       "      <td>356.00</td>\n",
       "    </tr>\n",
       "    <tr>\n",
       "      <th>cloudCover</th>\n",
       "      <td>693071.00</td>\n",
       "      <td>0.69</td>\n",
       "      <td>0.36</td>\n",
       "      <td>0.00</td>\n",
       "      <td>0.37</td>\n",
       "      <td>0.82</td>\n",
       "      <td>1.00</td>\n",
       "      <td>1.00</td>\n",
       "    </tr>\n",
       "    <tr>\n",
       "      <th>uvIndex</th>\n",
       "      <td>693071.00</td>\n",
       "      <td>0.25</td>\n",
       "      <td>0.47</td>\n",
       "      <td>0.00</td>\n",
       "      <td>0.00</td>\n",
       "      <td>0.00</td>\n",
       "      <td>0.00</td>\n",
       "      <td>2.00</td>\n",
       "    </tr>\n",
       "    <tr>\n",
       "      <th>visibility.1</th>\n",
       "      <td>693071.00</td>\n",
       "      <td>8.47</td>\n",
       "      <td>2.60</td>\n",
       "      <td>0.72</td>\n",
       "      <td>8.43</td>\n",
       "      <td>9.88</td>\n",
       "      <td>10.00</td>\n",
       "      <td>10.00</td>\n",
       "    </tr>\n",
       "    <tr>\n",
       "      <th>ozone</th>\n",
       "      <td>693071.00</td>\n",
       "      <td>313.51</td>\n",
       "      <td>27.95</td>\n",
       "      <td>269.40</td>\n",
       "      <td>290.90</td>\n",
       "      <td>307.40</td>\n",
       "      <td>331.80</td>\n",
       "      <td>378.90</td>\n",
       "    </tr>\n",
       "    <tr>\n",
       "      <th>sunriseTime</th>\n",
       "      <td>693071.00</td>\n",
       "      <td>1544027098.20</td>\n",
       "      <td>691139.27</td>\n",
       "      <td>1543146535.00</td>\n",
       "      <td>1543405938.00</td>\n",
       "      <td>1543751761.00</td>\n",
       "      <td>1544789239.00</td>\n",
       "      <td>1545135001.00</td>\n",
       "    </tr>\n",
       "    <tr>\n",
       "      <th>sunsetTime</th>\n",
       "      <td>693071.00</td>\n",
       "      <td>1544060438.64</td>\n",
       "      <td>690663.39</td>\n",
       "      <td>1543180615.00</td>\n",
       "      <td>1543439721.00</td>\n",
       "      <td>1543785233.00</td>\n",
       "      <td>1544822019.00</td>\n",
       "      <td>1545167693.00</td>\n",
       "    </tr>\n",
       "    <tr>\n",
       "      <th>moonPhase</th>\n",
       "      <td>693071.00</td>\n",
       "      <td>0.58</td>\n",
       "      <td>0.24</td>\n",
       "      <td>0.09</td>\n",
       "      <td>0.30</td>\n",
       "      <td>0.68</td>\n",
       "      <td>0.79</td>\n",
       "      <td>0.93</td>\n",
       "    </tr>\n",
       "    <tr>\n",
       "      <th>precipIntensityMax</th>\n",
       "      <td>693071.00</td>\n",
       "      <td>0.04</td>\n",
       "      <td>0.06</td>\n",
       "      <td>0.00</td>\n",
       "      <td>0.00</td>\n",
       "      <td>0.00</td>\n",
       "      <td>0.09</td>\n",
       "      <td>0.15</td>\n",
       "    </tr>\n",
       "    <tr>\n",
       "      <th>uvIndexTime</th>\n",
       "      <td>693071.00</td>\n",
       "      <td>1544043966.24</td>\n",
       "      <td>691202.77</td>\n",
       "      <td>1543161600.00</td>\n",
       "      <td>1543420800.00</td>\n",
       "      <td>1543770000.00</td>\n",
       "      <td>1544806800.00</td>\n",
       "      <td>1545152400.00</td>\n",
       "    </tr>\n",
       "    <tr>\n",
       "      <th>temperatureMin</th>\n",
       "      <td>693071.00</td>\n",
       "      <td>33.46</td>\n",
       "      <td>6.47</td>\n",
       "      <td>15.63</td>\n",
       "      <td>30.17</td>\n",
       "      <td>34.24</td>\n",
       "      <td>38.88</td>\n",
       "      <td>43.10</td>\n",
       "    </tr>\n",
       "    <tr>\n",
       "      <th>temperatureMinTime</th>\n",
       "      <td>693071.00</td>\n",
       "      <td>1544041609.57</td>\n",
       "      <td>690195.44</td>\n",
       "      <td>1543122000.00</td>\n",
       "      <td>1543399200.00</td>\n",
       "      <td>1543726800.00</td>\n",
       "      <td>1544788800.00</td>\n",
       "      <td>1545192000.00</td>\n",
       "    </tr>\n",
       "    <tr>\n",
       "      <th>temperatureMax</th>\n",
       "      <td>693071.00</td>\n",
       "      <td>45.26</td>\n",
       "      <td>5.65</td>\n",
       "      <td>33.51</td>\n",
       "      <td>42.57</td>\n",
       "      <td>44.68</td>\n",
       "      <td>46.91</td>\n",
       "      <td>57.87</td>\n",
       "    </tr>\n",
       "    <tr>\n",
       "      <th>temperatureMaxTime</th>\n",
       "      <td>693071.00</td>\n",
       "      <td>1544047300.03</td>\n",
       "      <td>690135.34</td>\n",
       "      <td>1543154400.00</td>\n",
       "      <td>1543438800.00</td>\n",
       "      <td>1543788000.00</td>\n",
       "      <td>1544814000.00</td>\n",
       "      <td>1545109200.00</td>\n",
       "    </tr>\n",
       "    <tr>\n",
       "      <th>apparentTemperatureMin</th>\n",
       "      <td>693071.00</td>\n",
       "      <td>29.73</td>\n",
       "      <td>7.11</td>\n",
       "      <td>11.81</td>\n",
       "      <td>27.76</td>\n",
       "      <td>30.13</td>\n",
       "      <td>35.71</td>\n",
       "      <td>40.05</td>\n",
       "    </tr>\n",
       "    <tr>\n",
       "      <th>apparentTemperatureMinTime</th>\n",
       "      <td>693071.00</td>\n",
       "      <td>1544048034.74</td>\n",
       "      <td>687186.19</td>\n",
       "      <td>1543136400.00</td>\n",
       "      <td>1543399200.00</td>\n",
       "      <td>1543744800.00</td>\n",
       "      <td>1544788800.00</td>\n",
       "      <td>1545134400.00</td>\n",
       "    </tr>\n",
       "    <tr>\n",
       "      <th>apparentTemperatureMax</th>\n",
       "      <td>693071.00</td>\n",
       "      <td>42.00</td>\n",
       "      <td>6.94</td>\n",
       "      <td>28.95</td>\n",
       "      <td>36.57</td>\n",
       "      <td>40.95</td>\n",
       "      <td>44.12</td>\n",
       "      <td>57.20</td>\n",
       "    </tr>\n",
       "    <tr>\n",
       "      <th>apparentTemperatureMaxTime</th>\n",
       "      <td>693071.00</td>\n",
       "      <td>1544047993.95</td>\n",
       "      <td>691077.65</td>\n",
       "      <td>1543186800.00</td>\n",
       "      <td>1543438800.00</td>\n",
       "      <td>1543788000.00</td>\n",
       "      <td>1544817600.00</td>\n",
       "      <td>1545109200.00</td>\n",
       "    </tr>\n",
       "  </tbody>\n",
       "</table>\n",
       "</div>"
      ],
      "text/plain": [
       "                                count          mean       std           min  \\\n",
       "timestamp                   693071.00 1544045709.76 689192.49 1543203646.00   \n",
       "hour                        693071.00         11.62      6.95          0.00   \n",
       "day                         693071.00         17.79      9.98          1.00   \n",
       "month                       693071.00         11.59      0.49         11.00   \n",
       "price                       637976.00         16.55      9.32          2.50   \n",
       "distance                    693071.00          2.19      1.14          0.02   \n",
       "surge_multiplier            693071.00          1.01      0.09          1.00   \n",
       "latitude                    693071.00         42.34      0.05         42.21   \n",
       "longitude                   693071.00        -71.07      0.02        -71.11   \n",
       "temperature                 693071.00         39.58      6.73         18.91   \n",
       "apparentTemperature         693071.00         35.88      7.92         12.13   \n",
       "precipIntensity             693071.00          0.01      0.03          0.00   \n",
       "precipProbability           693071.00          0.15      0.33          0.00   \n",
       "humidity                    693071.00          0.74      0.14          0.38   \n",
       "windSpeed                   693071.00          6.19      3.15          0.45   \n",
       "windGust                    693071.00          8.47      5.29          0.80   \n",
       "windGustTime                693071.00 1544048883.54 692824.40 1543150800.00   \n",
       "visibility                  693071.00          8.47      2.60          0.72   \n",
       "temperatureHigh             693071.00         45.04      6.00         32.68   \n",
       "temperatureHighTime         693071.00 1544049894.63 693792.11 1543154400.00   \n",
       "temperatureLow              693071.00         34.15      6.38         17.85   \n",
       "temperatureLowTime          693071.00 1544102170.88 692292.33 1543233600.00   \n",
       "apparentTemperatureHigh     693071.00         41.61      7.67         22.62   \n",
       "apparentTemperatureHighTime 693071.00 1544050235.26 694169.87 1543186800.00   \n",
       "apparentTemperatureLow      693071.00         30.14      8.06         11.81   \n",
       "apparentTemperatureLowTime  693071.00 1544098720.41 692737.83 1543233600.00   \n",
       "dewPoint                    693071.00         31.66      9.14          4.39   \n",
       "pressure                    693071.00       1010.09     13.47        988.09   \n",
       "windBearing                 693071.00        220.06     99.10          2.00   \n",
       "cloudCover                  693071.00          0.69      0.36          0.00   \n",
       "uvIndex                     693071.00          0.25      0.47          0.00   \n",
       "visibility.1                693071.00          8.47      2.60          0.72   \n",
       "ozone                       693071.00        313.51     27.95        269.40   \n",
       "sunriseTime                 693071.00 1544027098.20 691139.27 1543146535.00   \n",
       "sunsetTime                  693071.00 1544060438.64 690663.39 1543180615.00   \n",
       "moonPhase                   693071.00          0.58      0.24          0.09   \n",
       "precipIntensityMax          693071.00          0.04      0.06          0.00   \n",
       "uvIndexTime                 693071.00 1544043966.24 691202.77 1543161600.00   \n",
       "temperatureMin              693071.00         33.46      6.47         15.63   \n",
       "temperatureMinTime          693071.00 1544041609.57 690195.44 1543122000.00   \n",
       "temperatureMax              693071.00         45.26      5.65         33.51   \n",
       "temperatureMaxTime          693071.00 1544047300.03 690135.34 1543154400.00   \n",
       "apparentTemperatureMin      693071.00         29.73      7.11         11.81   \n",
       "apparentTemperatureMinTime  693071.00 1544048034.74 687186.19 1543136400.00   \n",
       "apparentTemperatureMax      693071.00         42.00      6.94         28.95   \n",
       "apparentTemperatureMaxTime  693071.00 1544047993.95 691077.65 1543186800.00   \n",
       "\n",
       "                                      25%           50%           75%  \\\n",
       "timestamp                   1543443968.00 1543737478.00 1544827509.00   \n",
       "hour                                 6.00         12.00         18.00   \n",
       "day                                 13.00         17.00         28.00   \n",
       "month                               11.00         12.00         12.00   \n",
       "price                                9.00         13.50         22.50   \n",
       "distance                             1.28          2.16          2.92   \n",
       "surge_multiplier                     1.00          1.00          1.00   \n",
       "latitude                            42.35         42.35         42.36   \n",
       "longitude                          -71.08        -71.06        -71.05   \n",
       "temperature                         36.45         40.49         43.58   \n",
       "apparentTemperature                 31.91         35.90         40.08   \n",
       "precipIntensity                      0.00          0.00          0.00   \n",
       "precipProbability                    0.00          0.00          0.00   \n",
       "humidity                             0.64          0.71          0.88   \n",
       "windSpeed                            3.41          5.91          8.41   \n",
       "windGust                             4.06          7.55         11.74   \n",
       "windGustTime                1543431600.00 1543755600.00 1544846400.00   \n",
       "visibility                           8.43          9.88         10.00   \n",
       "temperatureHigh                     42.57         44.68         46.91   \n",
       "temperatureHighTime         1543438800.00 1543788000.00 1544814000.00   \n",
       "temperatureLow                      30.17         34.18         38.73   \n",
       "temperatureLowTime          1543489200.00 1543816800.00 1544835600.00   \n",
       "apparentTemperatureHigh             36.57         40.95         44.12   \n",
       "apparentTemperatureHighTime 1543438800.00 1543788000.00 1544817600.00   \n",
       "apparentTemperatureLow              27.70         30.03         35.32   \n",
       "apparentTemperatureLowTime  1543478400.00 1543816800.00 1544835600.00   \n",
       "dewPoint                            27.49         30.69         38.12   \n",
       "pressure                           999.82       1009.25       1021.86   \n",
       "windBearing                        124.00        258.00        303.00   \n",
       "cloudCover                           0.37          0.82          1.00   \n",
       "uvIndex                              0.00          0.00          0.00   \n",
       "visibility.1                         8.43          9.88         10.00   \n",
       "ozone                              290.90        307.40        331.80   \n",
       "sunriseTime                 1543405938.00 1543751761.00 1544789239.00   \n",
       "sunsetTime                  1543439721.00 1543785233.00 1544822019.00   \n",
       "moonPhase                            0.30          0.68          0.79   \n",
       "precipIntensityMax                   0.00          0.00          0.09   \n",
       "uvIndexTime                 1543420800.00 1543770000.00 1544806800.00   \n",
       "temperatureMin                      30.17         34.24         38.88   \n",
       "temperatureMinTime          1543399200.00 1543726800.00 1544788800.00   \n",
       "temperatureMax                      42.57         44.68         46.91   \n",
       "temperatureMaxTime          1543438800.00 1543788000.00 1544814000.00   \n",
       "apparentTemperatureMin              27.76         30.13         35.71   \n",
       "apparentTemperatureMinTime  1543399200.00 1543744800.00 1544788800.00   \n",
       "apparentTemperatureMax              36.57         40.95         44.12   \n",
       "apparentTemperatureMaxTime  1543438800.00 1543788000.00 1544817600.00   \n",
       "\n",
       "                                      max  \n",
       "timestamp                   1545160511.00  \n",
       "hour                                23.00  \n",
       "day                                 30.00  \n",
       "month                               12.00  \n",
       "price                               97.50  \n",
       "distance                             7.86  \n",
       "surge_multiplier                     3.00  \n",
       "latitude                            42.37  \n",
       "longitude                          -71.03  \n",
       "temperature                         57.22  \n",
       "apparentTemperature                 57.22  \n",
       "precipIntensity                      0.14  \n",
       "precipProbability                    1.00  \n",
       "humidity                             0.96  \n",
       "windSpeed                           15.00  \n",
       "windGust                            27.25  \n",
       "windGustTime                1545127200.00  \n",
       "visibility                          10.00  \n",
       "temperatureHigh                     57.87  \n",
       "temperatureHighTime         1545159600.00  \n",
       "temperatureLow                      46.60  \n",
       "temperatureLowTime          1545220800.00  \n",
       "apparentTemperatureHigh             57.20  \n",
       "apparentTemperatureHighTime 1545159600.00  \n",
       "apparentTemperatureLow              47.25  \n",
       "apparentTemperatureLowTime  1545199200.00  \n",
       "dewPoint                            50.67  \n",
       "pressure                          1035.55  \n",
       "windBearing                        356.00  \n",
       "cloudCover                           1.00  \n",
       "uvIndex                              2.00  \n",
       "visibility.1                        10.00  \n",
       "ozone                              378.90  \n",
       "sunriseTime                 1545135001.00  \n",
       "sunsetTime                  1545167693.00  \n",
       "moonPhase                            0.93  \n",
       "precipIntensityMax                   0.15  \n",
       "uvIndexTime                 1545152400.00  \n",
       "temperatureMin                      43.10  \n",
       "temperatureMinTime          1545192000.00  \n",
       "temperatureMax                      57.87  \n",
       "temperatureMaxTime          1545109200.00  \n",
       "apparentTemperatureMin              40.05  \n",
       "apparentTemperatureMinTime  1545134400.00  \n",
       "apparentTemperatureMax              57.20  \n",
       "apparentTemperatureMaxTime  1545109200.00  "
      ]
     },
     "execution_count": 10,
     "metadata": {},
     "output_type": "execute_result"
    }
   ],
   "source": [
    "#Descriptive Statistics\n",
    "df.describe().T"
   ]
  },
  {
   "cell_type": "code",
   "execution_count": 11,
   "id": "79eadcc0-b411-4f56-8bb7-474e01648d9d",
   "metadata": {},
   "outputs": [
    {
     "data": {
      "text/html": [
       "<div>\n",
       "<style scoped>\n",
       "    .dataframe tbody tr th:only-of-type {\n",
       "        vertical-align: middle;\n",
       "    }\n",
       "\n",
       "    .dataframe tbody tr th {\n",
       "        vertical-align: top;\n",
       "    }\n",
       "\n",
       "    .dataframe thead th {\n",
       "        text-align: right;\n",
       "    }\n",
       "</style>\n",
       "<table border=\"1\" class=\"dataframe\">\n",
       "  <thead>\n",
       "    <tr style=\"text-align: right;\">\n",
       "      <th></th>\n",
       "      <th>id</th>\n",
       "      <th>timestamp</th>\n",
       "      <th>hour</th>\n",
       "      <th>day</th>\n",
       "      <th>month</th>\n",
       "      <th>datetime</th>\n",
       "      <th>timezone</th>\n",
       "      <th>source</th>\n",
       "      <th>destination</th>\n",
       "      <th>cab_type</th>\n",
       "      <th>...</th>\n",
       "      <th>precipIntensityMax</th>\n",
       "      <th>uvIndexTime</th>\n",
       "      <th>temperatureMin</th>\n",
       "      <th>temperatureMinTime</th>\n",
       "      <th>temperatureMax</th>\n",
       "      <th>temperatureMaxTime</th>\n",
       "      <th>apparentTemperatureMin</th>\n",
       "      <th>apparentTemperatureMinTime</th>\n",
       "      <th>apparentTemperatureMax</th>\n",
       "      <th>apparentTemperatureMaxTime</th>\n",
       "    </tr>\n",
       "  </thead>\n",
       "  <tbody>\n",
       "    <tr>\n",
       "      <th>0</th>\n",
       "      <td>424553bb-7174-41ea-aeb4-fe06d4f4b9d7</td>\n",
       "      <td>1544952607.89</td>\n",
       "      <td>9</td>\n",
       "      <td>16</td>\n",
       "      <td>12</td>\n",
       "      <td>2018-12-16 09:30:07</td>\n",
       "      <td>America/New_York</td>\n",
       "      <td>Haymarket Square</td>\n",
       "      <td>North Station</td>\n",
       "      <td>Lyft</td>\n",
       "      <td>...</td>\n",
       "      <td>0.13</td>\n",
       "      <td>1544979600</td>\n",
       "      <td>39.89</td>\n",
       "      <td>1545012000</td>\n",
       "      <td>43.68</td>\n",
       "      <td>1544968800</td>\n",
       "      <td>33.73</td>\n",
       "      <td>1545012000</td>\n",
       "      <td>38.07</td>\n",
       "      <td>1544958000</td>\n",
       "    </tr>\n",
       "    <tr>\n",
       "      <th>1</th>\n",
       "      <td>4bd23055-6827-41c6-b23b-3c491f24e74d</td>\n",
       "      <td>1543284023.68</td>\n",
       "      <td>2</td>\n",
       "      <td>27</td>\n",
       "      <td>11</td>\n",
       "      <td>2018-11-27 02:00:23</td>\n",
       "      <td>America/New_York</td>\n",
       "      <td>Haymarket Square</td>\n",
       "      <td>North Station</td>\n",
       "      <td>Lyft</td>\n",
       "      <td>...</td>\n",
       "      <td>0.13</td>\n",
       "      <td>1543251600</td>\n",
       "      <td>40.49</td>\n",
       "      <td>1543233600</td>\n",
       "      <td>47.30</td>\n",
       "      <td>1543251600</td>\n",
       "      <td>36.20</td>\n",
       "      <td>1543291200</td>\n",
       "      <td>43.92</td>\n",
       "      <td>1543251600</td>\n",
       "    </tr>\n",
       "    <tr>\n",
       "      <th>2</th>\n",
       "      <td>981a3613-77af-4620-a42a-0c0866077d1e</td>\n",
       "      <td>1543366822.20</td>\n",
       "      <td>1</td>\n",
       "      <td>28</td>\n",
       "      <td>11</td>\n",
       "      <td>2018-11-28 01:00:22</td>\n",
       "      <td>America/New_York</td>\n",
       "      <td>Haymarket Square</td>\n",
       "      <td>North Station</td>\n",
       "      <td>Lyft</td>\n",
       "      <td>...</td>\n",
       "      <td>0.11</td>\n",
       "      <td>1543338000</td>\n",
       "      <td>35.36</td>\n",
       "      <td>1543377600</td>\n",
       "      <td>47.55</td>\n",
       "      <td>1543320000</td>\n",
       "      <td>31.04</td>\n",
       "      <td>1543377600</td>\n",
       "      <td>44.12</td>\n",
       "      <td>1543320000</td>\n",
       "    </tr>\n",
       "    <tr>\n",
       "      <th>3</th>\n",
       "      <td>c2d88af2-d278-4bfd-a8d0-29ca77cc5512</td>\n",
       "      <td>1543553582.75</td>\n",
       "      <td>4</td>\n",
       "      <td>30</td>\n",
       "      <td>11</td>\n",
       "      <td>2018-11-30 04:53:02</td>\n",
       "      <td>America/New_York</td>\n",
       "      <td>Haymarket Square</td>\n",
       "      <td>North Station</td>\n",
       "      <td>Lyft</td>\n",
       "      <td>...</td>\n",
       "      <td>0.00</td>\n",
       "      <td>1543507200</td>\n",
       "      <td>34.67</td>\n",
       "      <td>1543550400</td>\n",
       "      <td>45.03</td>\n",
       "      <td>1543510800</td>\n",
       "      <td>30.30</td>\n",
       "      <td>1543550400</td>\n",
       "      <td>38.53</td>\n",
       "      <td>1543510800</td>\n",
       "    </tr>\n",
       "    <tr>\n",
       "      <th>4</th>\n",
       "      <td>e0126e1f-8ca9-4f2e-82b3-50505a09db9a</td>\n",
       "      <td>1543463360.22</td>\n",
       "      <td>3</td>\n",
       "      <td>29</td>\n",
       "      <td>11</td>\n",
       "      <td>2018-11-29 03:49:20</td>\n",
       "      <td>America/New_York</td>\n",
       "      <td>Haymarket Square</td>\n",
       "      <td>North Station</td>\n",
       "      <td>Lyft</td>\n",
       "      <td>...</td>\n",
       "      <td>0.00</td>\n",
       "      <td>1543420800</td>\n",
       "      <td>33.10</td>\n",
       "      <td>1543402800</td>\n",
       "      <td>42.18</td>\n",
       "      <td>1543420800</td>\n",
       "      <td>29.11</td>\n",
       "      <td>1543392000</td>\n",
       "      <td>35.75</td>\n",
       "      <td>1543420800</td>\n",
       "    </tr>\n",
       "  </tbody>\n",
       "</table>\n",
       "<p>5 rows × 57 columns</p>\n",
       "</div>"
      ],
      "text/plain": [
       "                                     id     timestamp  hour  day  month  \\\n",
       "0  424553bb-7174-41ea-aeb4-fe06d4f4b9d7 1544952607.89     9   16     12   \n",
       "1  4bd23055-6827-41c6-b23b-3c491f24e74d 1543284023.68     2   27     11   \n",
       "2  981a3613-77af-4620-a42a-0c0866077d1e 1543366822.20     1   28     11   \n",
       "3  c2d88af2-d278-4bfd-a8d0-29ca77cc5512 1543553582.75     4   30     11   \n",
       "4  e0126e1f-8ca9-4f2e-82b3-50505a09db9a 1543463360.22     3   29     11   \n",
       "\n",
       "              datetime          timezone            source    destination  \\\n",
       "0  2018-12-16 09:30:07  America/New_York  Haymarket Square  North Station   \n",
       "1  2018-11-27 02:00:23  America/New_York  Haymarket Square  North Station   \n",
       "2  2018-11-28 01:00:22  America/New_York  Haymarket Square  North Station   \n",
       "3  2018-11-30 04:53:02  America/New_York  Haymarket Square  North Station   \n",
       "4  2018-11-29 03:49:20  America/New_York  Haymarket Square  North Station   \n",
       "\n",
       "  cab_type  ... precipIntensityMax uvIndexTime  temperatureMin  \\\n",
       "0     Lyft  ...               0.13  1544979600           39.89   \n",
       "1     Lyft  ...               0.13  1543251600           40.49   \n",
       "2     Lyft  ...               0.11  1543338000           35.36   \n",
       "3     Lyft  ...               0.00  1543507200           34.67   \n",
       "4     Lyft  ...               0.00  1543420800           33.10   \n",
       "\n",
       "   temperatureMinTime  temperatureMax  temperatureMaxTime  \\\n",
       "0          1545012000           43.68          1544968800   \n",
       "1          1543233600           47.30          1543251600   \n",
       "2          1543377600           47.55          1543320000   \n",
       "3          1543550400           45.03          1543510800   \n",
       "4          1543402800           42.18          1543420800   \n",
       "\n",
       "   apparentTemperatureMin  apparentTemperatureMinTime  apparentTemperatureMax  \\\n",
       "0                   33.73                  1545012000                   38.07   \n",
       "1                   36.20                  1543291200                   43.92   \n",
       "2                   31.04                  1543377600                   44.12   \n",
       "3                   30.30                  1543550400                   38.53   \n",
       "4                   29.11                  1543392000                   35.75   \n",
       "\n",
       "  apparentTemperatureMaxTime  \n",
       "0                 1544958000  \n",
       "1                 1543251600  \n",
       "2                 1543320000  \n",
       "3                 1543510800  \n",
       "4                 1543420800  \n",
       "\n",
       "[5 rows x 57 columns]"
      ]
     },
     "execution_count": 11,
     "metadata": {},
     "output_type": "execute_result"
    }
   ],
   "source": [
    "# Top 5 Rows\n",
    "df.head()"
   ]
  },
  {
   "cell_type": "code",
   "execution_count": 12,
   "id": "a86c72e7-9271-4021-944e-6f1b1c857c52",
   "metadata": {},
   "outputs": [
    {
     "data": {
      "text/html": [
       "<div>\n",
       "<style scoped>\n",
       "    .dataframe tbody tr th:only-of-type {\n",
       "        vertical-align: middle;\n",
       "    }\n",
       "\n",
       "    .dataframe tbody tr th {\n",
       "        vertical-align: top;\n",
       "    }\n",
       "\n",
       "    .dataframe thead th {\n",
       "        text-align: right;\n",
       "    }\n",
       "</style>\n",
       "<table border=\"1\" class=\"dataframe\">\n",
       "  <thead>\n",
       "    <tr style=\"text-align: right;\">\n",
       "      <th></th>\n",
       "      <th>id</th>\n",
       "      <th>timestamp</th>\n",
       "      <th>hour</th>\n",
       "      <th>day</th>\n",
       "      <th>month</th>\n",
       "      <th>datetime</th>\n",
       "      <th>timezone</th>\n",
       "      <th>source</th>\n",
       "      <th>destination</th>\n",
       "      <th>cab_type</th>\n",
       "      <th>...</th>\n",
       "      <th>precipIntensityMax</th>\n",
       "      <th>uvIndexTime</th>\n",
       "      <th>temperatureMin</th>\n",
       "      <th>temperatureMinTime</th>\n",
       "      <th>temperatureMax</th>\n",
       "      <th>temperatureMaxTime</th>\n",
       "      <th>apparentTemperatureMin</th>\n",
       "      <th>apparentTemperatureMinTime</th>\n",
       "      <th>apparentTemperatureMax</th>\n",
       "      <th>apparentTemperatureMaxTime</th>\n",
       "    </tr>\n",
       "  </thead>\n",
       "  <tbody>\n",
       "    <tr>\n",
       "      <th>693066</th>\n",
       "      <td>616d3611-1820-450a-9845-a9ff304a4842</td>\n",
       "      <td>1543708386.00</td>\n",
       "      <td>23</td>\n",
       "      <td>1</td>\n",
       "      <td>12</td>\n",
       "      <td>2018-12-01 23:53:05</td>\n",
       "      <td>America/New_York</td>\n",
       "      <td>West End</td>\n",
       "      <td>North End</td>\n",
       "      <td>Uber</td>\n",
       "      <td>...</td>\n",
       "      <td>0.00</td>\n",
       "      <td>1543683600</td>\n",
       "      <td>31.42</td>\n",
       "      <td>1543658400</td>\n",
       "      <td>44.76</td>\n",
       "      <td>1543690800</td>\n",
       "      <td>27.77</td>\n",
       "      <td>1543658400</td>\n",
       "      <td>44.09</td>\n",
       "      <td>1543690800</td>\n",
       "    </tr>\n",
       "    <tr>\n",
       "      <th>693067</th>\n",
       "      <td>633a3fc3-1f86-4b9e-9d48-2b7132112341</td>\n",
       "      <td>1543708386.00</td>\n",
       "      <td>23</td>\n",
       "      <td>1</td>\n",
       "      <td>12</td>\n",
       "      <td>2018-12-01 23:53:05</td>\n",
       "      <td>America/New_York</td>\n",
       "      <td>West End</td>\n",
       "      <td>North End</td>\n",
       "      <td>Uber</td>\n",
       "      <td>...</td>\n",
       "      <td>0.00</td>\n",
       "      <td>1543683600</td>\n",
       "      <td>31.42</td>\n",
       "      <td>1543658400</td>\n",
       "      <td>44.76</td>\n",
       "      <td>1543690800</td>\n",
       "      <td>27.77</td>\n",
       "      <td>1543658400</td>\n",
       "      <td>44.09</td>\n",
       "      <td>1543690800</td>\n",
       "    </tr>\n",
       "    <tr>\n",
       "      <th>693068</th>\n",
       "      <td>64d451d0-639f-47a4-9b7c-6fd92fbd264f</td>\n",
       "      <td>1543708386.00</td>\n",
       "      <td>23</td>\n",
       "      <td>1</td>\n",
       "      <td>12</td>\n",
       "      <td>2018-12-01 23:53:05</td>\n",
       "      <td>America/New_York</td>\n",
       "      <td>West End</td>\n",
       "      <td>North End</td>\n",
       "      <td>Uber</td>\n",
       "      <td>...</td>\n",
       "      <td>0.00</td>\n",
       "      <td>1543683600</td>\n",
       "      <td>31.42</td>\n",
       "      <td>1543658400</td>\n",
       "      <td>44.76</td>\n",
       "      <td>1543690800</td>\n",
       "      <td>27.77</td>\n",
       "      <td>1543658400</td>\n",
       "      <td>44.09</td>\n",
       "      <td>1543690800</td>\n",
       "    </tr>\n",
       "    <tr>\n",
       "      <th>693069</th>\n",
       "      <td>727e5f07-a96b-4ad1-a2c7-9abc3ad55b4e</td>\n",
       "      <td>1543708386.00</td>\n",
       "      <td>23</td>\n",
       "      <td>1</td>\n",
       "      <td>12</td>\n",
       "      <td>2018-12-01 23:53:05</td>\n",
       "      <td>America/New_York</td>\n",
       "      <td>West End</td>\n",
       "      <td>North End</td>\n",
       "      <td>Uber</td>\n",
       "      <td>...</td>\n",
       "      <td>0.00</td>\n",
       "      <td>1543683600</td>\n",
       "      <td>31.42</td>\n",
       "      <td>1543658400</td>\n",
       "      <td>44.76</td>\n",
       "      <td>1543690800</td>\n",
       "      <td>27.77</td>\n",
       "      <td>1543658400</td>\n",
       "      <td>44.09</td>\n",
       "      <td>1543690800</td>\n",
       "    </tr>\n",
       "    <tr>\n",
       "      <th>693070</th>\n",
       "      <td>e7fdc087-fe86-40a5-a3c3-3b2a8badcbda</td>\n",
       "      <td>1543708386.00</td>\n",
       "      <td>23</td>\n",
       "      <td>1</td>\n",
       "      <td>12</td>\n",
       "      <td>2018-12-01 23:53:05</td>\n",
       "      <td>America/New_York</td>\n",
       "      <td>West End</td>\n",
       "      <td>North End</td>\n",
       "      <td>Uber</td>\n",
       "      <td>...</td>\n",
       "      <td>0.00</td>\n",
       "      <td>1543683600</td>\n",
       "      <td>31.42</td>\n",
       "      <td>1543658400</td>\n",
       "      <td>44.76</td>\n",
       "      <td>1543690800</td>\n",
       "      <td>27.77</td>\n",
       "      <td>1543658400</td>\n",
       "      <td>44.09</td>\n",
       "      <td>1543690800</td>\n",
       "    </tr>\n",
       "  </tbody>\n",
       "</table>\n",
       "<p>5 rows × 57 columns</p>\n",
       "</div>"
      ],
      "text/plain": [
       "                                          id     timestamp  hour  day  month  \\\n",
       "693066  616d3611-1820-450a-9845-a9ff304a4842 1543708386.00    23    1     12   \n",
       "693067  633a3fc3-1f86-4b9e-9d48-2b7132112341 1543708386.00    23    1     12   \n",
       "693068  64d451d0-639f-47a4-9b7c-6fd92fbd264f 1543708386.00    23    1     12   \n",
       "693069  727e5f07-a96b-4ad1-a2c7-9abc3ad55b4e 1543708386.00    23    1     12   \n",
       "693070  e7fdc087-fe86-40a5-a3c3-3b2a8badcbda 1543708386.00    23    1     12   \n",
       "\n",
       "                   datetime          timezone    source destination cab_type  \\\n",
       "693066  2018-12-01 23:53:05  America/New_York  West End   North End     Uber   \n",
       "693067  2018-12-01 23:53:05  America/New_York  West End   North End     Uber   \n",
       "693068  2018-12-01 23:53:05  America/New_York  West End   North End     Uber   \n",
       "693069  2018-12-01 23:53:05  America/New_York  West End   North End     Uber   \n",
       "693070  2018-12-01 23:53:05  America/New_York  West End   North End     Uber   \n",
       "\n",
       "        ... precipIntensityMax uvIndexTime  temperatureMin  \\\n",
       "693066  ...               0.00  1543683600           31.42   \n",
       "693067  ...               0.00  1543683600           31.42   \n",
       "693068  ...               0.00  1543683600           31.42   \n",
       "693069  ...               0.00  1543683600           31.42   \n",
       "693070  ...               0.00  1543683600           31.42   \n",
       "\n",
       "        temperatureMinTime  temperatureMax  temperatureMaxTime  \\\n",
       "693066          1543658400           44.76          1543690800   \n",
       "693067          1543658400           44.76          1543690800   \n",
       "693068          1543658400           44.76          1543690800   \n",
       "693069          1543658400           44.76          1543690800   \n",
       "693070          1543658400           44.76          1543690800   \n",
       "\n",
       "        apparentTemperatureMin  apparentTemperatureMinTime  \\\n",
       "693066                   27.77                  1543658400   \n",
       "693067                   27.77                  1543658400   \n",
       "693068                   27.77                  1543658400   \n",
       "693069                   27.77                  1543658400   \n",
       "693070                   27.77                  1543658400   \n",
       "\n",
       "        apparentTemperatureMax apparentTemperatureMaxTime  \n",
       "693066                   44.09                 1543690800  \n",
       "693067                   44.09                 1543690800  \n",
       "693068                   44.09                 1543690800  \n",
       "693069                   44.09                 1543690800  \n",
       "693070                   44.09                 1543690800  \n",
       "\n",
       "[5 rows x 57 columns]"
      ]
     },
     "execution_count": 12,
     "metadata": {},
     "output_type": "execute_result"
    }
   ],
   "source": [
    "#Bottom 5 Rows\n",
    "df.tail()"
   ]
  },
  {
   "cell_type": "code",
   "execution_count": 13,
   "id": "d7b05cf8-f57c-4fa9-95ad-385c2626443e",
   "metadata": {},
   "outputs": [],
   "source": [
    "#Drop Missing Values\n",
    "df = df.dropna()"
   ]
  },
  {
   "cell_type": "code",
   "execution_count": 14,
   "id": "d27f0071-502e-4197-b8db-abb94ec2ac0b",
   "metadata": {},
   "outputs": [
    {
     "data": {
      "text/plain": [
       "id                             0\n",
       "timestamp                      0\n",
       "hour                           0\n",
       "day                            0\n",
       "month                          0\n",
       "datetime                       0\n",
       "timezone                       0\n",
       "source                         0\n",
       "destination                    0\n",
       "cab_type                       0\n",
       "product_id                     0\n",
       "name                           0\n",
       "price                          0\n",
       "distance                       0\n",
       "surge_multiplier               0\n",
       "latitude                       0\n",
       "longitude                      0\n",
       "temperature                    0\n",
       "apparentTemperature            0\n",
       "short_summary                  0\n",
       "long_summary                   0\n",
       "precipIntensity                0\n",
       "precipProbability              0\n",
       "humidity                       0\n",
       "windSpeed                      0\n",
       "windGust                       0\n",
       "windGustTime                   0\n",
       "visibility                     0\n",
       "temperatureHigh                0\n",
       "temperatureHighTime            0\n",
       "temperatureLow                 0\n",
       "temperatureLowTime             0\n",
       "apparentTemperatureHigh        0\n",
       "apparentTemperatureHighTime    0\n",
       "apparentTemperatureLow         0\n",
       "apparentTemperatureLowTime     0\n",
       "icon                           0\n",
       "dewPoint                       0\n",
       "pressure                       0\n",
       "windBearing                    0\n",
       "cloudCover                     0\n",
       "uvIndex                        0\n",
       "visibility.1                   0\n",
       "ozone                          0\n",
       "sunriseTime                    0\n",
       "sunsetTime                     0\n",
       "moonPhase                      0\n",
       "precipIntensityMax             0\n",
       "uvIndexTime                    0\n",
       "temperatureMin                 0\n",
       "temperatureMinTime             0\n",
       "temperatureMax                 0\n",
       "temperatureMaxTime             0\n",
       "apparentTemperatureMin         0\n",
       "apparentTemperatureMinTime     0\n",
       "apparentTemperatureMax         0\n",
       "apparentTemperatureMaxTime     0\n",
       "dtype: int64"
      ]
     },
     "execution_count": 14,
     "metadata": {},
     "output_type": "execute_result"
    }
   ],
   "source": [
    "#Check Missing Values \n",
    "df.isnull().sum()"
   ]
  },
  {
   "cell_type": "code",
   "execution_count": 15,
   "id": "e3f8ca8f-b29e-4ae2-b91c-c87033072926",
   "metadata": {},
   "outputs": [],
   "source": [
    "#Drop Unecessary Columns\n",
    "cols = [ 'apparentTemperature','precipIntensity','humidity','windSpeed','apparentTemperatureHigh','dewPoint',\n",
    "        'precipIntensityMax','apparentTemperatureMax','cloudCover','moonPhase','windGustTime','visibility',\n",
    "        'temperatureHighTime','apparentTemperatureHighTime','apparentTemperatureLow' ,'apparentTemperatureLowTime',\n",
    "        'temperatureMinTime','temperatureMaxTime','apparentTemperatureMin','apparentTemperatureMinTime', \n",
    "        'apparentTemperatureMaxTime','windBearing','sunriseTime','uvIndex','visibility.1','ozone','sunsetTime','uvIndexTime']\n",
    "df = df.drop(cols, axis=1)"
   ]
  },
  {
   "cell_type": "markdown",
   "id": "d2570c84-015a-4a8f-932f-fde4ee1e0a1a",
   "metadata": {},
   "source": [
    "---"
   ]
  },
  {
   "cell_type": "markdown",
   "id": "9c68342d-69dd-4d31-a50f-9001e5a343c4",
   "metadata": {},
   "source": [
    "#### **Retrieve Unique Values**"
   ]
  },
  {
   "cell_type": "code",
   "execution_count": 16,
   "id": "61b51663-ba0a-4738-b6b7-8b0ba29b4ab1",
   "metadata": {},
   "outputs": [
    {
     "data": {
      "text/plain": [
       "array(['America/New_York'], dtype=object)"
      ]
     },
     "execution_count": 16,
     "metadata": {},
     "output_type": "execute_result"
    }
   ],
   "source": [
    "#Retrieve Unique Values in the Column\n",
    "df.timezone.unique()"
   ]
  },
  {
   "cell_type": "code",
   "execution_count": 17,
   "id": "605d2487-7872-4eb5-b806-c48c3442dc1f",
   "metadata": {},
   "outputs": [
    {
     "data": {
      "text/plain": [
       "array(['Haymarket Square', 'Back Bay', 'North End', 'North Station',\n",
       "       'Beacon Hill', 'Boston University', 'Fenway', 'South Station',\n",
       "       'Theatre District', 'West End', 'Financial District',\n",
       "       'Northeastern University'], dtype=object)"
      ]
     },
     "execution_count": 17,
     "metadata": {},
     "output_type": "execute_result"
    }
   ],
   "source": [
    "#Retrieve Unique Values in the Column\n",
    "df.source.unique()"
   ]
  },
  {
   "cell_type": "code",
   "execution_count": 18,
   "id": "adbd531d-a75f-47a2-bd94-e34a7fdc8f84",
   "metadata": {},
   "outputs": [
    {
     "data": {
      "text/plain": [
       "array(['North Station', 'Northeastern University', 'West End',\n",
       "       'Haymarket Square', 'South Station', 'Fenway', 'Theatre District',\n",
       "       'Beacon Hill', 'Back Bay', 'North End', 'Financial District',\n",
       "       'Boston University'], dtype=object)"
      ]
     },
     "execution_count": 18,
     "metadata": {},
     "output_type": "execute_result"
    }
   ],
   "source": [
    "#Retrieve Unique Values in the Column\n",
    "df.destination.unique()"
   ]
  },
  {
   "cell_type": "code",
   "execution_count": 19,
   "id": "da98df08-f34f-4984-842e-12ad36f7d8e4",
   "metadata": {},
   "outputs": [
    {
     "data": {
      "text/plain": [
       "array(['Lyft', 'Uber'], dtype=object)"
      ]
     },
     "execution_count": 19,
     "metadata": {},
     "output_type": "execute_result"
    }
   ],
   "source": [
    "#Retrieve Unique Values in the Column\n",
    "df.cab_type.unique()"
   ]
  },
  {
   "cell_type": "code",
   "execution_count": 20,
   "id": "68f9ca2c-99ee-4b80-b9db-77e17fb8b9e6",
   "metadata": {},
   "outputs": [
    {
     "data": {
      "text/plain": [
       "array(['Shared', 'Lux', 'Lyft', 'Lux Black XL', 'Lyft XL', 'Lux Black',\n",
       "       'UberXL', 'Black', 'UberX', 'WAV', 'Black SUV', 'UberPool'],\n",
       "      dtype=object)"
      ]
     },
     "execution_count": 20,
     "metadata": {},
     "output_type": "execute_result"
    }
   ],
   "source": [
    "#Retrieve Unique Values in the Column\n",
    "df.name.unique()"
   ]
  },
  {
   "cell_type": "code",
   "execution_count": 21,
   "id": "6cf17aec-9150-48f9-a567-addf1bd1b6e0",
   "metadata": {},
   "outputs": [
    {
     "data": {
      "text/plain": [
       "array([' Mostly Cloudy ', ' Rain ', ' Clear ', ' Partly Cloudy ',\n",
       "       ' Overcast ', ' Light Rain ', ' Foggy ', ' Possible Drizzle ',\n",
       "       ' Drizzle '], dtype=object)"
      ]
     },
     "execution_count": 21,
     "metadata": {},
     "output_type": "execute_result"
    }
   ],
   "source": [
    "#Retrieve Unique Values in the Column\n",
    "df.short_summary.unique()"
   ]
  },
  {
   "cell_type": "code",
   "execution_count": 22,
   "id": "ffd57ddb-7e20-4204-96fc-d0731f4b552b",
   "metadata": {},
   "outputs": [
    {
     "data": {
      "text/plain": [
       "array([' Rain throughout the day. ',\n",
       "       ' Rain until morning, starting again in the evening. ',\n",
       "       ' Light rain in the morning. ',\n",
       "       ' Partly cloudy throughout the day. ',\n",
       "       ' Mostly cloudy throughout the day. ',\n",
       "       ' Light rain in the morning and overnight. ',\n",
       "       ' Light rain until evening. ', ' Foggy in the morning. ',\n",
       "       ' Overcast throughout the day. ',\n",
       "       ' Possible drizzle in the morning. ',\n",
       "       ' Rain in the morning and afternoon. '], dtype=object)"
      ]
     },
     "execution_count": 22,
     "metadata": {},
     "output_type": "execute_result"
    }
   ],
   "source": [
    "#Retrieve Unique Values in the Column\n",
    "df.long_summary.unique()"
   ]
  },
  {
   "cell_type": "code",
   "execution_count": 23,
   "id": "7d0ff5c0-f078-48ac-a2f5-978240230552",
   "metadata": {},
   "outputs": [
    {
     "data": {
      "text/plain": [
       "array([' partly-cloudy-night ', ' rain ', ' clear-night ', ' cloudy ',\n",
       "       ' fog ', ' clear-day ', ' partly-cloudy-day '], dtype=object)"
      ]
     },
     "execution_count": 23,
     "metadata": {},
     "output_type": "execute_result"
    }
   ],
   "source": [
    "#Retrieve Unique Values in the Column\n",
    "df.icon.unique()"
   ]
  },
  {
   "cell_type": "markdown",
   "id": "85338249-f910-4259-a650-94226bc4ef47",
   "metadata": {},
   "source": [
    "---"
   ]
  },
  {
   "cell_type": "markdown",
   "id": "bd27e088-beac-4a2a-9e9c-0d8cc2bca29f",
   "metadata": {},
   "source": [
    "#### **Generate Weekday Names**"
   ]
  },
  {
   "cell_type": "code",
   "execution_count": 24,
   "id": "9561ef3e-3105-4d03-af62-8d617c62c249",
   "metadata": {},
   "outputs": [],
   "source": [
    "#Generate the names of days from the timestamps\n",
    "weekday = [calendar.day_name[x.dayofweek] for x in\n",
    "          pd.to_datetime(df['datetime'], format= \"%Y/%m/%d %H:%M:%S\")]\n",
    "weekday = pd.Series(weekday)"
   ]
  },
  {
   "cell_type": "markdown",
   "id": "84f3d6bc-40bf-4922-ab3f-8e380f40dd1c",
   "metadata": {},
   "source": [
    "---"
   ]
  },
  {
   "cell_type": "markdown",
   "id": "3f8b52fa-a6ba-4be2-a861-4b9847d572aa",
   "metadata": {},
   "source": [
    "#### **Value Counts**"
   ]
  },
  {
   "cell_type": "code",
   "execution_count": 25,
   "id": "7bf9e9eb-666e-4491-957b-1923ce9ddfc7",
   "metadata": {},
   "outputs": [
    {
     "data": {
      "text/plain": [
       "Financial District         54197\n",
       "Back Bay                   53201\n",
       "Theatre District           53201\n",
       "Boston University          53172\n",
       "North End                  53171\n",
       "Fenway                     53166\n",
       "Northeastern University    53164\n",
       "South Station              53160\n",
       "Haymarket Square           53147\n",
       "West End                   52980\n",
       "Beacon Hill                52841\n",
       "North Station              52576\n",
       "Name: source, dtype: int64"
      ]
     },
     "execution_count": 25,
     "metadata": {},
     "output_type": "execute_result"
    }
   ],
   "source": [
    "# Value Counts in Source Column\n",
    "df['source'].value_counts()"
   ]
  },
  {
   "cell_type": "code",
   "execution_count": 26,
   "id": "55cadc44-6224-4acc-816f-e127edf8d603",
   "metadata": {},
   "outputs": [
    {
     "data": {
      "text/plain": [
       "Financial District         54192\n",
       "Back Bay                   53190\n",
       "Theatre District           53189\n",
       "Haymarket Square           53171\n",
       "Boston University          53171\n",
       "Fenway                     53166\n",
       "Northeastern University    53165\n",
       "North End                  53164\n",
       "South Station              53159\n",
       "West End                   52992\n",
       "Beacon Hill                52840\n",
       "North Station              52577\n",
       "Name: destination, dtype: int64"
      ]
     },
     "execution_count": 26,
     "metadata": {},
     "output_type": "execute_result"
    }
   ],
   "source": [
    "# Value Counts in Destination Column\n",
    "df['destination'].value_counts()"
   ]
  },
  {
   "cell_type": "code",
   "execution_count": 27,
   "id": "89349ca3-c6bd-4779-b48b-034e007e02aa",
   "metadata": {},
   "outputs": [
    {
     "data": {
      "text/plain": [
       "Uber    330568\n",
       "Lyft    307408\n",
       "Name: cab_type, dtype: int64"
      ]
     },
     "execution_count": 27,
     "metadata": {},
     "output_type": "execute_result"
    }
   ],
   "source": [
    "# Value Counts in Cab Type Column\n",
    "df['cab_type'].value_counts()"
   ]
  },
  {
   "cell_type": "code",
   "execution_count": 28,
   "id": "08892e3f-8ccd-4d04-aaea-c704377764d8",
   "metadata": {},
   "outputs": [
    {
     "data": {
      "text/plain": [
       "UberXL          55096\n",
       "WAV             55096\n",
       "Black SUV       55096\n",
       "Black           55095\n",
       "UberX           55094\n",
       "UberPool        55091\n",
       "Lux             51235\n",
       "Lyft            51235\n",
       "Lux Black XL    51235\n",
       "Lyft XL         51235\n",
       "Lux Black       51235\n",
       "Shared          51233\n",
       "Name: name, dtype: int64"
      ]
     },
     "execution_count": 28,
     "metadata": {},
     "output_type": "execute_result"
    }
   ],
   "source": [
    "# Value Counts in Name Column\n",
    "df['name'].value_counts()"
   ]
  },
  {
   "cell_type": "code",
   "execution_count": 29,
   "id": "9e5e646c-61ab-46f9-a235-1bd95a1d7aee",
   "metadata": {},
   "outputs": [
    {
     "data": {
      "text/plain": [
       " Overcast             201429\n",
       " Mostly Cloudy        134603\n",
       " Partly Cloudy        117226\n",
       " Clear                 80256\n",
       " Light Rain            50488\n",
       " Rain                  21781\n",
       " Possible Drizzle      17176\n",
       " Foggy                  8292\n",
       " Drizzle                6725\n",
       "Name: short_summary, dtype: int64"
      ]
     },
     "execution_count": 29,
     "metadata": {},
     "output_type": "execute_result"
    }
   ],
   "source": [
    "# Value Counts in Short Summary Column\n",
    "df['short_summary'].value_counts()"
   ]
  },
  {
   "cell_type": "code",
   "execution_count": 30,
   "id": "19244379-31b8-42a2-82aa-49c49b0686c3",
   "metadata": {},
   "outputs": [
    {
     "data": {
      "text/plain": [
       " Mostly cloudy throughout the day.                      186262\n",
       " Partly cloudy throughout the day.                      133744\n",
       " Light rain in the morning.                              94423\n",
       " Rain throughout the day.                                49929\n",
       " Light rain in the morning and overnight.                46575\n",
       " Rain until morning, starting again in the evening.      44071\n",
       " Foggy in the morning.                                   41201\n",
       " Light rain until evening.                               32690\n",
       " Overcast throughout the day.                             6906\n",
       " Possible drizzle in the morning.                         1708\n",
       " Rain in the morning and afternoon.                        467\n",
       "Name: long_summary, dtype: int64"
      ]
     },
     "execution_count": 30,
     "metadata": {},
     "output_type": "execute_result"
    }
   ],
   "source": [
    "# Value Counts in Long Summary Column\n",
    "df['long_summary'].value_counts()"
   ]
  },
  {
   "cell_type": "code",
   "execution_count": 31,
   "id": "fa88fa5a-3faf-46f7-b67e-cc67a79eac6a",
   "metadata": {},
   "outputs": [
    {
     "data": {
      "text/plain": [
       " cloudy                  201429\n",
       " partly-cloudy-night     145492\n",
       " partly-cloudy-day       106337\n",
       " rain                     96170\n",
       " clear-night              55577\n",
       " clear-day                24679\n",
       " fog                       8292\n",
       "Name: icon, dtype: int64"
      ]
     },
     "execution_count": 31,
     "metadata": {},
     "output_type": "execute_result"
    }
   ],
   "source": [
    "# Value Counts in Icon Column\n",
    "df['icon'].value_counts()"
   ]
  },
  {
   "cell_type": "markdown",
   "id": "69e9f3f9-8e85-4734-b64a-d2b29620826d",
   "metadata": {},
   "source": [
    "---"
   ]
  },
  {
   "cell_type": "markdown",
   "id": "ba1bf168-d9fd-40d3-aefb-a8837190c5fc",
   "metadata": {},
   "source": [
    "#### **Visualize Cab Type**\n",
    "-   Uber enjoys greater popularity compared to Lyft."
   ]
  },
  {
   "cell_type": "code",
   "execution_count": 32,
   "id": "62bd2535-cfc0-4b0c-98eb-b55e8fa48647",
   "metadata": {},
   "outputs": [
    {
     "data": {
      "image/png": "[encoded data removed]",
      "text/plain": [
       "<Figure size 720x432 with 1 Axes>"
      ]
     },
     "metadata": {
      "needs_background": "light"
     },
     "output_type": "display_data"
    }
   ],
   "source": [
    "#Cab Type\n",
    "plt.figure(figsize=(10, 6)) \n",
    "sns . countplot(x= 'cab_type' ,data=df, palette = 'inferno')\n",
    "plt.title('Cab Type', fontweight='bold')\n",
    "plt.ylabel('Count') \n",
    "plt.xlabel('Cab Type') \n",
    "plt.show()"
   ]
  },
  {
   "cell_type": "markdown",
   "id": "bea904bb-78a6-4de5-bdfd-3940fd762b83",
   "metadata": {},
   "source": [
    "---"
   ]
  },
  {
   "cell_type": "markdown",
   "id": "2b80d20e-f3ea-4efe-8233-d2ec632dfa36",
   "metadata": {},
   "source": [
    "#### **Visualize Trip Source**\n",
    "-    Our data indicates that the Financial District, Back Bay, and Theatre District are the top hotspots for ride pickups."
   ]
  },
  {
   "cell_type": "code",
   "execution_count": 33,
   "id": "c87a2ccb-21e1-4ee4-98cc-d0b56d0a2c1a",
   "metadata": {},
   "outputs": [
    {
     "data": {
      "image/png": "[encoded data removed]",
      "text/plain": [
       "<Figure size 720x432 with 1 Axes>"
      ]
     },
     "metadata": {
      "needs_background": "light"
     },
     "output_type": "display_data"
    }
   ],
   "source": [
    "#Source\n",
    "plt.figure(figsize=(10, 6))  # Adjust the width and height \n",
    "sns.countplot(x='source', data=df, order=df['source'].value_counts().index, palette = 'inferno')\n",
    "plt.xticks(rotation=90)  # Rotates the x-axis labels by 90 degrees\n",
    "plt.ylabel('Count') \n",
    "plt.xlabel('Source')\n",
    "plt.title('Trip Source', fontweight='bold')\n",
    "plt.show()"
   ]
  },
  {
   "cell_type": "markdown",
   "id": "84bc4848-2fe8-46ce-8df3-85bdb05f8969",
   "metadata": {},
   "source": [
    "---"
   ]
  },
  {
   "cell_type": "markdown",
   "id": "c4a12790-1341-4514-bada-2db0364a1e27",
   "metadata": {},
   "source": [
    "#### **Visualize Trip Destination**\n",
    "-    Riders are most frequently dropped off in the Financial District, Back Bay, and Theatre District."
   ]
  },
  {
   "cell_type": "code",
   "execution_count": 34,
   "id": "9505ca6c-0e37-43bb-88b4-5d5af8583374",
   "metadata": {},
   "outputs": [
    {
     "data": {
      "image/png": "[encoded data removed]",
      "text/plain": [
       "<Figure size 720x432 with 1 Axes>"
      ]
     },
     "metadata": {
      "needs_background": "light"
     },
     "output_type": "display_data"
    }
   ],
   "source": [
    "#Destination\n",
    "plt.figure(figsize=(10, 6))  # Adjust the width and height \n",
    "sns.countplot(x='destination', data=df, order=df['destination'].value_counts().index, palette = 'inferno')\n",
    "plt.xticks(rotation=90)  # Rotates the x-axis labels by 90 degrees\n",
    "plt.ylabel('Count') \n",
    "plt.xlabel('Destinantion')\n",
    "plt.title('Trip Destinantion', fontweight='bold')\n",
    "plt.show()"
   ]
  },
  {
   "cell_type": "markdown",
   "id": "2ddbca8e-824b-4528-93a6-0cd9d9e7293e",
   "metadata": {},
   "source": [
    "---"
   ]
  },
  {
   "cell_type": "markdown",
   "id": "a75115a5-dffe-4f9d-9216-04eb3a75431d",
   "metadata": {},
   "source": [
    "#### **Visualize Cab Name**\n",
    "-    UberXL is a popular choice among riders for larger capacity vehicles."
   ]
  },
  {
   "cell_type": "code",
   "execution_count": 35,
   "id": "90208a43-f1c1-4f87-912b-c867060c7889",
   "metadata": {},
   "outputs": [
    {
     "data": {
      "image/png": "[encoded data removed]",
      "text/plain": [
       "<Figure size 720x432 with 1 Axes>"
      ]
     },
     "metadata": {
      "needs_background": "light"
     },
     "output_type": "display_data"
    }
   ],
   "source": [
    "#Name\n",
    "plt.figure(figsize=(10, 6))  # Adjust the width and height \n",
    "sns.countplot(x='name', data=df, order=df['name'].value_counts().index, palette = 'inferno')\n",
    "plt.xticks(rotation=90)  # Rotates the x-axis labels by 90 degrees\n",
    "plt.ylabel('Count') \n",
    "plt.xlabel('Name')\n",
    "plt.title('Cab Name', fontweight='bold')\n",
    "plt.show()"
   ]
  },
  {
   "cell_type": "markdown",
   "id": "6b411f35-71a5-434d-8557-04c05a5a777a",
   "metadata": {},
   "source": [
    "---"
   ]
  },
  {
   "cell_type": "markdown",
   "id": "3c35dfdc-963e-4028-81d3-9c5e7b2259d5",
   "metadata": {},
   "source": [
    "#### **Visualize Trips by Weekday**\n",
    "-    Tuesday records the highest volume of rides."
   ]
  },
  {
   "cell_type": "code",
   "execution_count": 36,
   "id": "55049a28-1723-459b-a3af-9c28aa75cc28",
   "metadata": {},
   "outputs": [
    {
     "data": {
      "image/png": "[encoded data removed]",
      "text/plain": [
       "<Figure size 720x432 with 1 Axes>"
      ]
     },
     "metadata": {
      "needs_background": "light"
     },
     "output_type": "display_data"
    }
   ],
   "source": [
    "# Count the occurrences of each weekday\n",
    "weekday_counts = weekday.value_counts()\n",
    "\n",
    "# Sort weekdays based on their counts\n",
    "weekday_sorted = weekday_counts.sort_values(ascending=False).index\n",
    "\n",
    "# Plotting with Seaborn\n",
    "plt.figure(figsize=(10, 6))\n",
    "sns.countplot(x=weekday, order=weekday_sorted, palette = 'inferno')\n",
    "plt.xlabel('Weekday')\n",
    "plt.ylabel('Number of Trips')\n",
    "plt.title('Trips by Weekday', fontweight = 'bold')\n",
    "plt.xticks(rotation=90)  # Rotate x-axis labels for better visibility\n",
    "plt.show()"
   ]
  },
  {
   "cell_type": "markdown",
   "id": "cc230e25-02dc-48d3-a0b1-5d37c3780c0f",
   "metadata": {},
   "source": [
    "---"
   ]
  },
  {
   "cell_type": "markdown",
   "id": "667f43ab-7e26-4a4d-b571-93b5c0fbb546",
   "metadata": {},
   "source": [
    "#### **Visualize Trips by Month**\n",
    "-    December experienced the highest volume of rides."
   ]
  },
  {
   "cell_type": "code",
   "execution_count": 37,
   "id": "52517d2f-a7b8-442d-bad9-73afb63bd544",
   "metadata": {},
   "outputs": [
    {
     "data": {
      "image/png": "[encoded data removed]",
      "text/plain": [
       "<Figure size 720x432 with 1 Axes>"
      ]
     },
     "metadata": {
      "needs_background": "light"
     },
     "output_type": "display_data"
    }
   ],
   "source": [
    "plt.figure(figsize=(10, 6)) \n",
    "sns . countplot(x= 'month' ,data=df, palette = 'inferno')\n",
    "plt.title('Trips by Month', fontweight='bold')\n",
    "plt.ylabel('Number of Trips') \n",
    "plt.xlabel('Months') \n",
    "plt.show()"
   ]
  },
  {
   "cell_type": "markdown",
   "id": "63d5702a-bb11-4f10-9fbb-5611f9886637",
   "metadata": {},
   "source": [
    "---"
   ]
  },
  {
   "cell_type": "markdown",
   "id": "40c885cd-5eb0-4f1f-bc95-5583415ce3fd",
   "metadata": {},
   "source": [
    "#### **Visualize Trips by Hour**\n",
    "-    The peak number of rides occurs between 11 PM and midnight."
   ]
  },
  {
   "cell_type": "code",
   "execution_count": 38,
   "id": "47db2003-818f-4049-b57c-411e56ae008d",
   "metadata": {},
   "outputs": [
    {
     "data": {
      "text/plain": [
       "Text(0.5, 1.0, 'Number of Trips per Hour')"
      ]
     },
     "execution_count": 38,
     "metadata": {},
     "output_type": "execute_result"
    },
    {
     "data": {
      "image/png": "[encoded data removed]",
      "text/plain": [
       "<Figure size 864x432 with 1 Axes>"
      ]
     },
     "metadata": {
      "needs_background": "light"
     },
     "output_type": "display_data"
    }
   ],
   "source": [
    "#Hourly Trips\n",
    "hours = df['hour'].value_counts()\n",
    "hours.plot(kind= 'bar', cmap='viridis', figsize= (12,6))\n",
    "plt.xlabel( 'Hours' )\n",
    "plt.ylabel( 'Hourly Trips' )\n",
    "plt.title( 'Number of Trips per Hour', fontweight = 'bold')"
   ]
  },
  {
   "cell_type": "markdown",
   "id": "49797985-9e52-45d3-86da-2f581a5836d4",
   "metadata": {},
   "source": [
    "---"
   ]
  },
  {
   "cell_type": "markdown",
   "id": "059b557e-51a7-4f0b-96e3-339397e85355",
   "metadata": {},
   "source": [
    "#### **Visualize November Daily Trips**\n",
    "-    November 27th experienced the highest number of rides."
   ]
  },
  {
   "cell_type": "code",
   "execution_count": 39,
   "id": "a9dd5b84-6b67-4e3d-9d84-221fb526afcf",
   "metadata": {},
   "outputs": [
    {
     "data": {
      "text/plain": [
       "Text(0.5, 1.0, 'Number of Daily Trips in November')"
      ]
     },
     "execution_count": 39,
     "metadata": {},
     "output_type": "execute_result"
    },
    {
     "data": {
      "image/png": "[encoded data removed]",
      "text/plain": [
       "<Figure size 720x432 with 1 Axes>"
      ]
     },
     "metadata": {
      "needs_background": "light"
     },
     "output_type": "display_data"
    }
   ],
   "source": [
    "#Daily Trips\n",
    "nov = df[ 'day' ][df['month']==11].value_counts()\n",
    "nov.plot(kind='bar', cmap='viridis', figsize=(10, 6) )\n",
    "plt.xlabel('Days')\n",
    "plt.ylabel('Number of Trips' )\n",
    "plt.title( 'Number of Daily Trips in November', fontweight = 'bold')"
   ]
  },
  {
   "cell_type": "markdown",
   "id": "bb70a477-abac-4461-907b-37966b335170",
   "metadata": {},
   "source": [
    "---"
   ]
  },
  {
   "cell_type": "markdown",
   "id": "22ba88f5-40dc-4a86-aa93-31a1cb3457f1",
   "metadata": {},
   "source": [
    "#### **Visualize December Daily Trips**\n",
    "-    December 1st emerged as the busiest day for rides."
   ]
  },
  {
   "cell_type": "code",
   "execution_count": 40,
   "id": "22ffeae7-1a6a-41a7-a0d5-76c1669718fa",
   "metadata": {},
   "outputs": [
    {
     "data": {
      "text/plain": [
       "Text(0.5, 1.0, 'Number of Daily Trips in December')"
      ]
     },
     "execution_count": 40,
     "metadata": {},
     "output_type": "execute_result"
    },
    {
     "data": {
      "image/png": "[encoded data removed]",
      "text/plain": [
       "<Figure size 720x432 with 1 Axes>"
      ]
     },
     "metadata": {
      "needs_background": "light"
     },
     "output_type": "display_data"
    }
   ],
   "source": [
    "#December Daily Trips\n",
    "dec = df[ 'day' ][df['month']==12].value_counts()\n",
    "dec.plot(kind='bar', cmap='viridis', figsize=(10, 6) )\n",
    "plt.xlabel('Days')\n",
    "plt.ylabel('Number of Trips' )\n",
    "plt.title( 'Number of Daily Trips in December', fontweight = 'bold')"
   ]
  },
  {
   "cell_type": "markdown",
   "id": "007846a3-e682-47ed-ad6f-0d56e72d7df6",
   "metadata": {},
   "source": [
    "---"
   ]
  },
  {
   "cell_type": "markdown",
   "id": "7807fc2a-d553-46bf-b0f2-884a391c9123",
   "metadata": {},
   "source": [
    "#### **Visualize November Daily Prices**\n",
    "-    The most expensive rides occurred at midnight on November 27th."
   ]
  },
  {
   "cell_type": "code",
   "execution_count": 41,
   "id": "2c08075c-d293-4e44-a3b7-6148513b6e16",
   "metadata": {},
   "outputs": [
    {
     "data": {
      "image/png": "[encoded data removed]",
      "text/plain": [
       "<Figure size 720x432 with 1 Axes>"
      ]
     },
     "metadata": {
      "needs_background": "light"
     },
     "output_type": "display_data"
    }
   ],
   "source": [
    "# Convert 'datetime' column to datetime format\n",
    "df['dtm'] = pd.to_datetime(df['datetime'])\n",
    "\n",
    "# Filter the DataFrame to include only data for November\n",
    "november_data = df[df['dtm'].dt.month == 11]\n",
    "\n",
    "# Group by date and calculate the mean price for each day\n",
    "daily_prices = november_data.groupby(november_data['dtm'].dt.date)['price'].mean()\n",
    "\n",
    "# Plotting the daily prices for November\n",
    "plt.figure(figsize=(10, 6))\n",
    "plt.plot(daily_prices.index, daily_prices.values, marker='', linestyle='-')\n",
    "plt.xlabel('Date')\n",
    "plt.ylabel('Price')\n",
    "plt.title('Daily Prices in November', fontweight = 'bold')\n",
    "plt.xticks(rotation=90)  # Rotate x-axis labels for better visibility\n",
    "plt.grid(False)  # Remove gridlines\n",
    "plt.tight_layout()\n",
    "plt.show()"
   ]
  },
  {
   "cell_type": "markdown",
   "id": "b862fcf7-cc68-4be1-962d-7ae0bb7f48bc",
   "metadata": {},
   "source": [
    "---"
   ]
  },
  {
   "cell_type": "markdown",
   "id": "1967dfd2-4e54-4188-85ed-c6d67e3c962c",
   "metadata": {},
   "source": [
    "#### **Visualize December Daily Prices**"
   ]
  },
  {
   "cell_type": "code",
   "execution_count": 42,
   "id": "3e5e47dc-563d-4ec7-8d8e-2487c7b627dc",
   "metadata": {},
   "outputs": [
    {
     "data": {
      "image/png": "[encoded data removed]",
      "text/plain": [
       "<Figure size 720x432 with 1 Axes>"
      ]
     },
     "metadata": {
      "needs_background": "light"
     },
     "output_type": "display_data"
    }
   ],
   "source": [
    "# Convert 'datetime' column to datetime format\n",
    "df['dtm'] = pd.to_datetime(df['datetime'])\n",
    "\n",
    "# Filter the DataFrame to include only data for November\n",
    "december_data = df[df['dtm'].dt.month == 12]\n",
    "\n",
    "# Group by date and calculate the mean price for each day\n",
    "daily_prices = december_data.groupby(december_data['dtm'].dt.date)['price'].mean()\n",
    "\n",
    "# Plotting the daily prices for November\n",
    "plt.figure(figsize=(10, 6))\n",
    "plt.plot(daily_prices.index, daily_prices.values, marker='', linestyle='-')\n",
    "plt.xlabel('Date')\n",
    "plt.ylabel('Price')\n",
    "plt.title('Daily Prices in December', fontweight = 'bold')\n",
    "plt.xticks(rotation=90)  # Rotate x-axis labels for better visibility\n",
    "plt.grid(False)  # Remove gridlines\n",
    "plt.tight_layout()\n",
    "plt.show()"
   ]
  },
  {
   "cell_type": "markdown",
   "id": "d121e29a-8912-469b-93b0-90c9b477b6c0",
   "metadata": {},
   "source": [
    "---"
   ]
  },
  {
   "cell_type": "markdown",
   "id": "4862e0b0-6542-44cc-9a3b-b137c8b4c06b",
   "metadata": {},
   "source": [
    "#### **Visualize Trips from Pickup Location**\n",
    "-    Our data reveals Financial District, Back Bay, Theatre District, and Boston University as top ride origin points."
   ]
  },
  {
   "cell_type": "code",
   "execution_count": 43,
   "id": "0b51a6cc-0023-4948-b074-e284b7915dc3",
   "metadata": {},
   "outputs": [
    {
     "data": {
      "image/png": "[encoded data removed]",
      "text/plain": [
       "<Figure size 864x432 with 1 Axes>"
      ]
     },
     "metadata": {
      "needs_background": "light"
     },
     "output_type": "display_data"
    }
   ],
   "source": [
    "#Trips from Source\n",
    "plt.figure(figsize=(12, 6))  # Adjust the width and height as needed\n",
    "sns.countplot(x='source', data=df, order=df['source'].value_counts().nlargest(15).index, palette = 'inferno')\n",
    "plt.xticks(rotation=90)  # Rotates the x-axis labels by 90 degrees\n",
    "plt.ylabel('Number of Trips') \n",
    "plt.xlabel('Location')\n",
    "plt.title('Trips per Pickup Location', fontweight='bold')\n",
    "plt.show()"
   ]
  },
  {
   "cell_type": "markdown",
   "id": "a22b3098-6070-40a7-a8f0-2cd021a01b18",
   "metadata": {},
   "source": [
    "---"
   ]
  },
  {
   "cell_type": "markdown",
   "id": "246ac438-9b7c-425a-9b0e-843a09994019",
   "metadata": {},
   "source": [
    "#### **Visualize Trips from Drop-Off Location**\n",
    "-    Financial District, Back Bay, Theatre District, and Haymarket Square are top rider destinations."
   ]
  },
  {
   "cell_type": "code",
   "execution_count": 44,
   "id": "2d2ceb18-cd8f-4c8b-9e6a-6b0b44186d42",
   "metadata": {},
   "outputs": [
    {
     "data": {
      "image/png": "[encoded data removed]",
      "text/plain": [
       "<Figure size 864x432 with 1 Axes>"
      ]
     },
     "metadata": {
      "needs_background": "light"
     },
     "output_type": "display_data"
    }
   ],
   "source": [
    "#Destination Location\n",
    "plt.figure(figsize=(12, 6))  # Adjust the width and height as needed\n",
    "sns.countplot(x='destination', data=df, order=df['destination'].value_counts().nlargest(15).index, palette = 'inferno')\n",
    "plt.xticks(rotation=90)  # Rotates the x-axis labels by 90 degrees\n",
    "plt.ylabel('Number of Trips') \n",
    "plt.xlabel('Location')\n",
    "plt.title('Trips per Drop-Off Location', fontweight='bold')\n",
    "plt.show()"
   ]
  },
  {
   "cell_type": "markdown",
   "id": "f9caf222-f7f2-4ffb-afc9-fdb4a8cf573b",
   "metadata": {},
   "source": [
    "---"
   ]
  },
  {
   "cell_type": "markdown",
   "id": "d786caf3-aef6-478b-88a7-a004959ac14c",
   "metadata": {},
   "source": [
    "#### **Visualize Trip Frequency**\n",
    "-    Our analysis indicates a recurring pattern: frequent Uber trips between South Station and the Financial District."
   ]
  },
  {
   "cell_type": "code",
   "execution_count": 45,
   "id": "49206b55-7fc3-4bac-932f-e82e87f61ba5",
   "metadata": {},
   "outputs": [
    {
     "data": {
      "text/plain": [
       "Text(0.5, 1.0, 'Frequency of Trips')"
      ]
     },
     "execution_count": 45,
     "metadata": {},
     "output_type": "execute_result"
    },
    {
     "data": {
      "image/png": "[encoded data removed]",
      "text/plain": [
       "<Figure size 792x432 with 1 Axes>"
      ]
     },
     "metadata": {
      "needs_background": "light"
     },
     "output_type": "display_data"
    }
   ],
   "source": [
    "#Frequency of Trips from Location A to B\n",
    "a_b = df[[ 'source', 'destination'] ].value_counts().nlargest(15)\n",
    "a_b.plot(kind='barh', color= 'steelblue', figsize=(11, 6))\n",
    "plt.xlabel('Trip Frequency')\n",
    "plt.ylabel('Trip Pair' )\n",
    "plt.title( 'Frequency of Trips', fontweight = 'bold')"
   ]
  },
  {
   "cell_type": "markdown",
   "id": "7ca322ac-d960-4079-95e3-10481a4fd47d",
   "metadata": {},
   "source": [
    "---"
   ]
  },
  {
   "cell_type": "markdown",
   "id": "bc2f708c-d4b6-4905-b935-cb100dec9949",
   "metadata": {},
   "source": [
    "#### **Correlation**\n",
    "##### Correlation, in the context of statistics, refers to the degree to which two variables are related. It describes the direction and strength of the association between those variables. There are two main types of correlation:\n",
    "-    **Positive correlation:** This indicates that as the value of one variable increases, the value of the other variable also tends to increase. For example, there might be a positive correlation between ride distance and Uber ride price - as the distance traveled increases, the price tends to go up as well.\n",
    "-    **Negative correlation:** This indicates that as the value of one variable increases, the value of the other variable tends to decrease.\n",
    "\n",
    "##### Analysis of ride data reveals weak correlations for most features (weather, time) with price. Distance and surge_multiplier show stronger positive correlations, suggesting they influence price more."
   ]
  },
  {
   "cell_type": "code",
   "execution_count": 46,
   "id": "7a8dad3b-77dd-47c7-be8d-ac4b65d1a107",
   "metadata": {},
   "outputs": [
    {
     "name": "stdout",
     "output_type": "stream",
     "text": [
      "longitude             -0.0014\n",
      "day                   -0.0007\n",
      "temperatureMax        -0.0005\n",
      "temperatureHigh       -0.0005\n",
      "temperatureMin        -0.0004\n",
      "precipProbability     -0.0002\n",
      "temperature           -0.0001\n",
      "temperatureLow         0.0002\n",
      "hour                   0.0006\n",
      "temperatureLowTime     0.0008\n",
      "timestamp              0.0008\n",
      "pressure               0.0009\n",
      "month                  0.0009\n",
      "windGust               0.0012\n",
      "latitude               0.0021\n",
      "surge_multiplier       0.2405\n",
      "distance               0.3451\n",
      "price                  1.0000\n",
      "Name: price, dtype: object\n"
     ]
    }
   ],
   "source": [
    "corr = df.corr()['price'].sort_values()\n",
    "corr = corr.map(\"{:.4f}\".format)\n",
    "print(corr)"
   ]
  },
  {
   "cell_type": "markdown",
   "id": "4f4b65da-b8d0-46cd-b2f5-70b4ccbf42a6",
   "metadata": {},
   "source": [
    "---"
   ]
  },
  {
   "cell_type": "markdown",
   "id": "b19df0d3-5c05-4a64-866e-70af07c4b4e4",
   "metadata": {},
   "source": [
    "#### **Data Preprocessing**"
   ]
  },
  {
   "cell_type": "markdown",
   "id": "2922bdac-9379-43b5-8f4b-543e73ea8d1f",
   "metadata": {},
   "source": [
    "##### **Label Encoder**\n",
    "##### Label encoding is a technique commonly used in machine learning when dealing with categorical data. Categorical data refers to features that represent qualities or classifications rather than numerical values. Examples include things like \"color\" (red, blue, green), \"size\" (small, medium, large), or \"day of the week\" (Monday, Tuesday, Wednesday).\n",
    "\n",
    "##### Here's a breakdown of how label encoding works:\n",
    "\n",
    "-    **Fitting the LabelEncoder:** Imagine a dictionary where each unique category (e.g., Monday) is assigned a unique numerical label (e.g., 0). The LabelEncoder \"learns\" this mapping by fitting itself to your data.\n",
    "-    **Transformation:** Once fitted, the LabelEncoder can then transform your categorical data into numerical labels based on the mapping it learned. For instance, \"Monday\" would be converted to 0 (assuming that's the assigned label during fitting). "
   ]
  },
  {
   "cell_type": "code",
   "execution_count": 47,
   "id": "c0fefe09-f544-4a92-81f9-b4e46420a383",
   "metadata": {},
   "outputs": [],
   "source": [
    "# Initialize LabelEncoder\n",
    "le = preprocessing.LabelEncoder()"
   ]
  },
  {
   "cell_type": "code",
   "execution_count": 48,
   "id": "5996a8f2-e0a6-4d6f-8d10-1092e8b453bb",
   "metadata": {},
   "outputs": [],
   "source": [
    "# Fit label encoder and return encoded labels\n",
    "df['id'] = le.fit_transform(df['id'])\n",
    "df['datetime'] = le.fit_transform(df['datetime'])\n",
    "df['timezone'] = le.fit_transform(df['timezone'])\n",
    "df['source'] = le.fit_transform(df['source'])\n",
    "df['destination'] = le.fit_transform(df['destination'])\n",
    "df['icon'] = le.fit_transform(df['icon'])\n",
    "df['cab_type'] = le.fit_transform(df['cab_type'])\n",
    "df['product_id'] = le.fit_transform(df['product_id'])\n",
    "df['short_summary'] = le.fit_transform(df['short_summary'])\n",
    "df['long_summary'] = le.fit_transform(df['long_summary'])\n",
    "df['name'] = le.fit_transform(df['name'])"
   ]
  },
  {
   "cell_type": "code",
   "execution_count": 49,
   "id": "86e2b4fc-fa85-4f39-b06a-1df427c8cb2a",
   "metadata": {},
   "outputs": [
    {
     "name": "stdout",
     "output_type": "stream",
     "text": [
      "Class mapping of Name:\n",
      "  Black: 0\n",
      "  Black SUV: 1\n",
      "  Lux: 2\n",
      "  Lux Black: 3\n",
      "  Lux Black XL: 4\n",
      "  Lyft: 5\n",
      "  Lyft XL: 6\n",
      "  Shared: 7\n",
      "  UberPool: 8\n",
      "  UberX: 9\n",
      "  UberXL: 10\n",
      "  WAV: 11\n"
     ]
    }
   ],
   "source": [
    "# Access the mapping of cab name labels to encoded labels\n",
    "print(\"Class mapping of Name:\")\n",
    "for i, item in enumerate(le.classes_):\n",
    "    print(f\"  {item}: {i}\")"
   ]
  },
  {
   "cell_type": "code",
   "execution_count": 50,
   "id": "514c7829-2f4f-4bc7-95e7-41d4a65ba528",
   "metadata": {},
   "outputs": [
    {
     "data": {
      "text/plain": [
       "330568"
      ]
     },
     "execution_count": 50,
     "metadata": {},
     "output_type": "execute_result"
    }
   ],
   "source": [
    "# Check selected Uber length. This will be used in predicting the price\n",
    "len(df[df['cab_type']==1])"
   ]
  },
  {
   "cell_type": "markdown",
   "id": "c1c0c7ec-c401-4dcc-bf09-fe2067a8ce08",
   "metadata": {},
   "source": [
    "---"
   ]
  },
  {
   "cell_type": "markdown",
   "id": "b8fd27d2-be40-4bf3-a4f7-89fc6b8e2458",
   "metadata": {},
   "source": [
    "#### **Separate Class and Features in Training Data**"
   ]
  },
  {
   "cell_type": "markdown",
   "id": "3aebb608-3b83-4739-8db8-cf71d6d434d4",
   "metadata": {},
   "source": [
    "##### In machine learning, training data typically consists of two main parts:\n",
    "-    **Features/independent variables:** These are the attributes or measurements used to predict something. In Uber ride price prediction example, features might include hour, day, distance, temperature, etc.\n",
    "-    **Target variable/dependent variable:** This is the value we're trying to predict. In your case, it's the price of the Uber ride.\n",
    "\n",
    "##### We will perform a train-test split on data using scikit-learn's train_test_split function. Here's a breakdown of what the code does:\n",
    "\n",
    "##### **Splitting the Data**\n",
    "-     x: This represents our feature data, containing the information used to predict the target variable.\n",
    "-     y: This represents our target variable, the value you're trying to predict (Uber ride price).\n",
    "-     test_size=0.3: This argument specifies that 30% (0.3) of the data will be allocated to the testing set. The remaining 70% will be used for training.\n",
    "-     random_state = 40: This sets a seed for the random number generator, ensuring reproducibility if we run the code multiple times. This means the data split will always be the same given the same seed.\n",
    "\n",
    "##### **Output**\n",
    "-     X_train: This variable stores the training data for features.\n",
    "-     X_test: This variable stores the testing data for features.\n",
    "-     y_train: This variable stores the training data for target variable.\n",
    "-     y_test: This variable stores the testing data for target variable.\n",
    "\n",
    "##### By splitting the data into training and testing sets, we can train our model on the training data and then evaluate its performance on unseen data (testing data). This helps prevent overfitting and ensures the model generalizes well to new data."
   ]
  },
  {
   "cell_type": "code",
   "execution_count": 51,
   "id": "dccb5e9f-89ef-448c-b89f-9b7cd5879c63",
   "metadata": {},
   "outputs": [],
   "source": [
    "# Slip data with price as the target\n",
    "x = df[df['cab_type']==1].drop(['price', 'cab_type','dtm','id'], axis=1)\n",
    "y = df[df['cab_type']==1]['price']"
   ]
  },
  {
   "cell_type": "code",
   "execution_count": 52,
   "id": "ce28657f-87cf-49d9-afd4-2bf9e271c40f",
   "metadata": {},
   "outputs": [],
   "source": [
    "X_train, X_test, y_train, y_test = train_test_split(x, y, test_size=0.3, random_state = 40)"
   ]
  },
  {
   "cell_type": "code",
   "execution_count": 53,
   "id": "a6f37880-8ab4-4667-a030-14022bac615b",
   "metadata": {},
   "outputs": [
    {
     "name": "stdout",
     "output_type": "stream",
     "text": [
      "X_train: (231397, 26)\n",
      "X_test: (99171, 26)\n",
      "y_train: (231397,)\n",
      "y_test: (99171,)\n"
     ]
    }
   ],
   "source": [
    "# Print the shapes\n",
    "print(\"X_train:\", X_train.shape)\n",
    "print(\"X_test:\", X_test.shape)\n",
    "print(\"y_train:\", y_train.shape)\n",
    "print(\"y_test:\", y_test.shape)"
   ]
  },
  {
   "cell_type": "markdown",
   "id": "e6bf7a1d-3fc0-4ecc-94f1-fe6d6d8ba13f",
   "metadata": {},
   "source": [
    "---"
   ]
  },
  {
   "cell_type": "markdown",
   "id": "aadf5ba4-8842-4633-8d7e-6e64c14f6d10",
   "metadata": {},
   "source": [
    "#### **Machine Learning Models for Uber Ride Price Prediction**\n",
    "Let's define several machine learning models that can be optimized for tasks like predicting Uber ride prices. Each model has its own strengths and weaknesses, and the best choice for our project will depend on our specific data and priorities.\n",
    "##### **Linear Regression:**\n",
    "-    **Concept:** This is a basic and interpretable model that learns a linear relationship between features and the target variable. It essentially fits a straight line through our data to minimize the error between the predicted and actual values.\n",
    "-    **Pros:** Simple to understand, computationally efficient, good for interpretability (we can see how each feature affects the prediction).\n",
    "-    **Cons:** Assumes a linear relationship between features and target variable (may not capture complex relationships well), might underperform for non-linear data.\n",
    "\n",
    "##### **Decision Tree:**\n",
    "-    **Concept:** This model works by splitting the data based on features to create a tree-like structure. At each split, it chooses the feature that best separates the data points according to the target variable.\n",
    "-    **Pros:** Relatively easy to interpret, can handle both categorical and numerical features, works well even with non-linear data.\n",
    "-    **Cons:** Can be prone to overfitting if not regularized, results can be sensitive to small changes in the data.\n",
    "\n",
    "##### **Random Forest:**\n",
    "-    **Concept:** This is an ensemble method that combines multiple decision trees. Each tree is trained on a random subset of features and data points, and the final prediction is the average of the individual tree predictions (regression) or majority vote (classification).\n",
    "-    **Pros:** Less prone to overfitting than a single decision tree, works well with high dimensional data (many features), robust to outliers.\n",
    "-    **Cons:** Can be a black box model (less interpretable than a single decision tree), can be computationally expensive to train.\n",
    "\n",
    "##### **XGBoost (eXtreme Gradient Boosting):**\n",
    "-    **Concept:** This is another ensemble method that uses gradient boosting to improve the model's performance in an iterative way. It builds multiple decision trees sequentially, each one focusing on correcting the errors of the previous tree.\n",
    "-    **Pros:** Very powerful and accurate for various tasks, handles complex relationships well, can be regularized to prevent overfitting.\n",
    "-    **Cons:** More complex to tune compared to simpler models, can be computationally expensive to train, can be a black box model.\n",
    "\n",
    "##### **Choosing the Right Model**\n",
    "##### Let's consider some factors that will influence our choice of model for the Uber ride price prediction task:\n",
    "-    **Interpretability:** If understanding how features affect price is crucial, linear regression or decision trees might be preferable.\n",
    "-    **Accuracy:** If achieving the highest possible prediction accuracy is our main goal, XGBoost is likely a strong contender.\n",
    "-    **Data Complexity:** If we suspect non-linear relationships between features and price, decision tree, random forest, or XGBoost might be better choices than linear regression.\n",
    "-    **Computational Resources:** Training complex models like XGBoost can be more time-consuming than simpler models.\n",
    "\n",
    "##### By understanding the strengths and weaknesses of each model, we can make an informed decision about which ones to optimize for our Uber ride price prediction project."
   ]
  },
  {
   "cell_type": "code",
   "execution_count": 54,
   "id": "311da016-501a-4b71-98e5-6cca6564eddf",
   "metadata": {},
   "outputs": [],
   "source": [
    "# Define the models to be optimized\n",
    "models = {\n",
    "    'lr': LinearRegression(),\n",
    "    'dt': DecisionTreeRegressor(),\n",
    "    'rf': RandomForestRegressor(),\n",
    "    #'gb': GradientBoostingRegressor(),\n",
    "    'xgb': XGBRegressor()\n",
    "}"
   ]
  },
  {
   "cell_type": "code",
   "execution_count": 55,
   "id": "ccc1904c-4f72-40dc-9a6a-bef54368aff9",
   "metadata": {},
   "outputs": [],
   "source": [
    "# Define the hyperparameters grid for each model\n",
    "params = {\n",
    "    'lr': {},\n",
    "    'dt': {'max_depth': [None, 5, 10]},\n",
    "    'rf': {'n_estimators': [10, 50, 100], 'max_depth': [None, 10, 20]},\n",
    "    #'gb': {'n_estimators': [50, 100, 200], 'learning_rate': [0.1, 0.05, 0.01]},\n",
    "    'xgb': {'n_estimators': [50, 100, 200], 'learning_rate': [0.1, 0.05, 0.01]}\n",
    "}"
   ]
  },
  {
   "cell_type": "code",
   "execution_count": 56,
   "id": "46eb1a36-fe1b-4fec-bef1-7d3f0484b6ce",
   "metadata": {},
   "outputs": [
    {
     "name": "stdout",
     "output_type": "stream",
     "text": [
      "Best parameters for lr: {}\n",
      "Best parameters for dt: {'max_depth': 10}\n",
      "Best parameters for rf: {'max_depth': 10, 'n_estimators': 100}\n",
      "Best parameters for xgb: {'learning_rate': 0.1, 'n_estimators': 200}\n"
     ]
    }
   ],
   "source": [
    "# Perform grid search for each model\n",
    "best_models = {}\n",
    "for name, model in models.items():\n",
    "    grid_search = GridSearchCV(model, params[name], cv=10, scoring='neg_mean_squared_error')\n",
    "    grid_search.fit(X_train, y_train)\n",
    "    best_models[name] = grid_search.best_estimator_\n",
    "    print(f\"Best parameters for {name}: {grid_search.best_params_}\")"
   ]
  },
  {
   "cell_type": "code",
   "execution_count": 57,
   "id": "fe04d0c1-401b-406f-8860-27e8dad54694",
   "metadata": {},
   "outputs": [
    {
     "name": "stdout",
     "output_type": "stream",
     "text": [
      "Mean Squared Error for lr: 25.11461044903398\n",
      "Mean Squared Error for dt: 3.76757015845811\n",
      "Mean Squared Error for rf: 3.6226109055623854\n",
      "Mean Squared Error for xgb: 3.4720935089424065\n"
     ]
    }
   ],
   "source": [
    "# Evaluate the best models on the test set\n",
    "for name, model in best_models.items():\n",
    "    y_pred = model.predict(X_test)\n",
    "    mse = mean_squared_error(y_test, y_pred)\n",
    "    print(f\"Mean Squared Error for {name}: {mse}\")"
   ]
  },
  {
   "cell_type": "markdown",
   "id": "24f299a3-f8eb-422d-b57b-756cddb98d89",
   "metadata": {},
   "source": [
    "##### It appears the XGBoost model (XGB) has the best performance among the four models evaluated. Here's a breakdown of the results:\n",
    "-  XGB (XGBoost): 3.47\n",
    "-  Random Forest (rf): 3.62\n",
    "-  Decision Tree (dt): 3.72\n",
    "-  Linear Regression (lr): 25.11\n",
    "\n",
    "##### Since MSE indicates the average squared difference between predicted and actual values, a lower MSE generally implies a better fit. In this case, the XGB model has the lowest MSE, suggesting it makes predictions that are closest to the actual values on average."
   ]
  },
  {
   "cell_type": "markdown",
   "id": "137f33e7-aa39-42fc-a53a-3139dca95051",
   "metadata": {},
   "source": [
    "---"
   ]
  },
  {
   "cell_type": "markdown",
   "id": "10a70a19-97e9-499d-be98-2116ae203b47",
   "metadata": {},
   "source": [
    "#### **Plot Mean Squared Error**"
   ]
  },
  {
   "cell_type": "markdown",
   "id": "af9a316a-a450-42fe-bd44-b4168dfe95ba",
   "metadata": {},
   "source": [
    "| Algorithm          | MSE     | \n",
    "| ------------------ | ------- | \n",
    "| XGBoost            | 3.47    | \n",
    "| Random Forest      | 3.62    | \n",
    "| Decision Tree      | 3.78    | \n",
    "| Linear Regression  | 25.11   | "
   ]
  },
  {
   "cell_type": "code",
   "execution_count": 58,
   "id": "6bec1e04-431f-41e3-982f-b3810a7e2349",
   "metadata": {},
   "outputs": [],
   "source": [
    "# Create a dictionary with the data\n",
    "data = {\n",
    "    'Algorithm': ['XGBoost', 'Random Forest', 'Decision Tree', 'Linear Regression'],\n",
    "    'MSE': [3.47, 3.62, 3.78, 25.11]\n",
    "}"
   ]
  },
  {
   "cell_type": "code",
   "execution_count": 59,
   "id": "82da4b12-5e3d-4e81-81c9-358f5e482671",
   "metadata": {},
   "outputs": [
    {
     "name": "stdout",
     "output_type": "stream",
     "text": [
      "           Algorithm   MSE\n",
      "0            XGBoost  3.47\n",
      "1      Random Forest  3.62\n",
      "2      Decision Tree  3.78\n",
      "3  Linear Regression 25.11\n"
     ]
    }
   ],
   "source": [
    "# Create the DataFrame\n",
    "dt = pd.DataFrame(data)\n",
    "\n",
    "# Display the DataFrame\n",
    "print(dt)"
   ]
  },
  {
   "cell_type": "code",
   "execution_count": 60,
   "id": "38efc903-c298-45cf-86c1-bb2db8cba833",
   "metadata": {},
   "outputs": [
    {
     "data": {
      "image/png": "[encoded data removed]",
      "text/plain": [
       "<Figure size 720x432 with 1 Axes>"
      ]
     },
     "metadata": {
      "needs_background": "light"
     },
     "output_type": "display_data"
    }
   ],
   "source": [
    "# Sort DataFrame by MSE in ascending order\n",
    "dt_sorted = dt.sort_values(by='MSE')\n",
    "\n",
    "# Create bar plot\n",
    "plt.figure(figsize=(10, 6))\n",
    "sns.barplot(x='MSE', y='Algorithm', data=dt_sorted, palette='inferno')\n",
    "plt.title('Mean Squared Error by Algorithm', fontweight = 'bold')\n",
    "plt.xlabel('Mean Squared Error')\n",
    "plt.ylabel('Algorithm')\n",
    "plt.show()"
   ]
  },
  {
   "cell_type": "markdown",
   "id": "ed557988-ecec-446c-b625-7bb26273ac77",
   "metadata": {},
   "source": [
    "# **END**"
   ]
  }
 ],
 "metadata": {
  "kernelspec": {
   "display_name": "Python 3 (ipykernel)",
   "language": "python",
   "name": "python3"
  },
  "language_info": {
   "codemirror_mode": {
    "name": "ipython",
    "version": 3
   },
   "file_extension": ".py",
   "mimetype": "text/x-python",
   "name": "python",
   "nbconvert_exporter": "python",
   "pygments_lexer": "ipython3",
   "version": "3.9.7"
  }
 },
 "nbformat": 4,
 "nbformat_minor": 5
}
